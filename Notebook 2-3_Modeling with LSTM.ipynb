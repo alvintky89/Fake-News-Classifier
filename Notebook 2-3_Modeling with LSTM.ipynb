{
 "cells": [
  {
   "cell_type": "markdown",
   "id": "a36037b5-b8a9-45dc-a4d7-ecfac6b874d1",
   "metadata": {},
   "source": [
    "<img src=\"http://imgur.com/1ZcRyrc.png\" style=\"float: left; margin: 20px; height: 55px\">\n",
    "\n",
    "# GA Capstone: Fake News Classifier\n",
    "\n",
    "Author: Tan Kai Yong Alvin"
   ]
  },
  {
   "cell_type": "markdown",
   "id": "d9c609cf-8dfd-4b92-9fc8-29750e01c52b",
   "metadata": {},
   "source": [
    "# Notebook 2-3: Modeling (Neural Network: LSTM GloVe Word Embedding)\n",
    "\n",
    "Despite achieving good accuracy result with models such as Logistic Regression, LGBM and SVM algorithms models, these models are trained on multiple word as separate inputs that are just word having no actual meaning as a sentence, and predicting the class it will give the output according to statistics without any reference to the meaning/ context, which may be crucial for classification of news."
   ]
  },
  {
   "cell_type": "markdown",
   "id": "372a69bd-abad-4e85-8598-c81d38916e47",
   "metadata": {},
   "source": [
    "**Long Short Term Memory (LSTM)**\n",
    "\n",
    "In this section, Long Short Term Memory (LSTM) with GloVe word embedding will be applied to build models. Unlike the other models that we applied (e.g. LGBM, LR, and NB models), LSTM can factor in the sequence and meaning of the text and hence the context of the news article is considered for prediction.\n",
    "\n",
    "LSTM stands for Long-Short Term Memory. LSTM is a type of recurrent neural network but is better than traditional recurrent neural networks in terms of memory. In LSTM we can use a multiple word string to find out the class to which it belongs. This is very helpful while working with Natural language processing. If we use appropriate layers of embedding and encoding in LSTM, the model will be able to find out the actual meaning in input string and will give the most accurate output class\n",
    "[(Source)](https://medium.com/analytics-vidhya/classification-using-long-short-term-memory-glove-global-vectors-for-word-representation-254d02d5e158).\n",
    "\n",
    "**GloVe Word Embedding**\n",
    "\n",
    "GloVe stands for Global Vector for word representation. In this section,  GloVe word embedding will be applied to form a work embeffing layer in the model. The GloVe pretrained model used is trained on Wikipedia data with 6 billion tokens and a 400,000 word vocabulary ('glove.6B.100d.txt').\n",
    "\n",
    "GloVe does not rely just on local statistics (local context information of words), but incorporates global statistics (word co-occurrence) to obtain word vectors."
   ]
  },
  {
   "cell_type": "markdown",
   "id": "08ea0f37-c0b4-4dbc-8e6e-46907c27f3fb",
   "metadata": {},
   "source": [
    "## Libraries"
   ]
  },
  {
   "cell_type": "code",
   "execution_count": 1,
   "id": "fdd540f9-56c8-433c-9d57-01a28c68370f",
   "metadata": {},
   "outputs": [],
   "source": [
    "import pandas as pd\n",
    "import numpy as np\n",
    "import matplotlib.pyplot as plt\n",
    "import seaborn as sns\n",
    "import re\n",
    "import nltk\n",
    "\n",
    "# sklearn imports\n",
    "from sklearn.preprocessing import StandardScaler # we still need to scale, since this is still a NN, with a linear component, thus scaling is crucial\n",
    "from sklearn.model_selection import train_test_split\n",
    "from nltk.tokenize import word_tokenize, RegexpTokenizer\n",
    "from nltk.corpus import stopwords\n",
    "from sklearn.model_selection import train_test_split\n",
    "# NN imports\n",
    "from tensorflow.keras.models import Sequential # to still build a NN model in a sequential pipeline\n",
    "from keras.preprocessing.text import Tokenizer\n",
    "from keras_preprocessing.sequence import pad_sequences\n",
    "from keras.layers import LSTM, Dropout, Dense, Embedding\n",
    "from keras import Sequential\n",
    "from keras.preprocessing import text, sequence\n",
    "\n",
    "from tensorflow.keras.layers import Dense, Dropout, LSTM, Bidirectional\n",
    "from tensorflow.keras.optimizers import Adam # we'll use the same optimizer: Adam\n",
    "from tensorflow.keras.models import Sequential # Sequential class: creates NNs model in a sequential fashion\n",
    "from tensorflow.keras.utils import to_categorical # to_categorical: does one hot encoding (same as sklearn onehotencoder used previously)\n",
    "from tensorflow.keras.callbacks import EarlyStopping\n",
    "# this setting widens how many characters pandas will display in a column:\n",
    "pd.options.display.max_colwidth = 400"
   ]
  },
  {
   "cell_type": "markdown",
   "id": "83470fdd-84b1-4240-9edc-5ff86c6c0ed1",
   "metadata": {},
   "source": [
    "## Import"
   ]
  },
  {
   "cell_type": "code",
   "execution_count": 2,
   "id": "d795de9e-9e31-4027-94a7-30d2a761f2e9",
   "metadata": {},
   "outputs": [],
   "source": [
    "combined_df = pd.read_csv('./datasets/combined_df.csv')"
   ]
  },
  {
   "cell_type": "markdown",
   "id": "f4272b66-209c-4b92-8448-95f3710d590b",
   "metadata": {},
   "source": [
    "## Preprocessing of Text"
   ]
  },
  {
   "cell_type": "markdown",
   "id": "ec1994f0-c809-4738-a842-d432e7a90d74",
   "metadata": {},
   "source": [
    "The pre-processing steps prior to application of LSTM Neural Network comprises of the following:\n",
    "\n",
    "* Lower Case\n",
    "* Remove URLs\n",
    "* Remove punctuations\n",
    "* Tokenization\n",
    "* Drop stopwords\n",
    "\n",
    "In order to retain the semantic meaning of the article and not affect the word embedding, neither Lemmitazation nor Stemming was performed as a preprocessing step "
   ]
  },
  {
   "cell_type": "code",
   "execution_count": 3,
   "id": "71ea5d6a-60fb-40c2-b0e6-1c7ee01b4132",
   "metadata": {},
   "outputs": [],
   "source": [
    "combined_df['lower_case'] = combined_df['title_text'].str.lower()"
   ]
  },
  {
   "cell_type": "code",
   "execution_count": 4,
   "id": "89d64d1b-c109-4701-9145-0fdfa6ec0b9a",
   "metadata": {},
   "outputs": [],
   "source": [
    "# remove website addresses from selftext_title column\n",
    "# instantiate regex to identify and remove urls\n",
    "combined_df['drop_url'] = combined_df['lower_case'].apply(lambda text: re.sub(r\"http\\S+\", '', text))"
   ]
  },
  {
   "cell_type": "code",
   "execution_count": 5,
   "id": "96655b0e-9347-48c5-b1f1-02da3496fdfe",
   "metadata": {},
   "outputs": [],
   "source": [
    "# remove punctuations\n",
    "combined_df['drop_punctuations'] = combined_df['drop_url'].apply(lambda text: re.sub(r'[^\\w\\s]', '', text))"
   ]
  },
  {
   "cell_type": "code",
   "execution_count": 6,
   "id": "004b960c-22e2-4376-ac91-9e60927d7358",
   "metadata": {},
   "outputs": [],
   "source": [
    "# tokenize\n",
    "tokenizer = RegexpTokenizer(r\"[\\w']+\") \n",
    "combined_df['tokenized'] = combined_df['drop_punctuations'].apply(lambda text: tokenizer.tokenize(text))"
   ]
  },
  {
   "cell_type": "code",
   "execution_count": 7,
   "id": "1b946659-a62e-4e6d-b6b8-08ac509ac00c",
   "metadata": {
    "tags": []
   },
   "outputs": [],
   "source": [
    "stopwords_list = stopwords.words(\"english\")\n",
    "\n",
    "# some words provided the source of the article, which may reveal explicitly if the news is fake or real.Such words will be omitted to make the model less bias towards source\n",
    "add_stopwords = [\"21wire\", \"twitter\", \"reuters\", '21WIRE', '21st', 'Century',  'Wire', 'somodevilla', 'getty', 'images', 'subscribe', 'member', 'realdonaldtrump']\n",
    "stopwords_list.extend(add_stopwords)"
   ]
  },
  {
   "cell_type": "code",
   "execution_count": 8,
   "id": "6f1ee065-b9c0-47d9-a00b-ddcefee5d0ef",
   "metadata": {},
   "outputs": [],
   "source": [
    "combined_df['classification_lstm']= combined_df['tokenized'].apply(lambda value: \" \".join( [word for word in value if word not in stopwords_list]))"
   ]
  },
  {
   "cell_type": "code",
   "execution_count": 9,
   "id": "e7ff8677-a810-46bc-8b2b-70b3b6f3de90",
   "metadata": {},
   "outputs": [
    {
     "name": "stdout",
     "output_type": "stream",
     "text": [
      "<class 'pandas.core.frame.DataFrame'>\n",
      "RangeIndex: 44689 entries, 0 to 44688\n",
      "Data columns (total 3 columns):\n",
      " #   Column               Non-Null Count  Dtype \n",
      "---  ------               --------------  ----- \n",
      " 0   title_text           44689 non-null  object\n",
      " 1   classification_lstm  44689 non-null  object\n",
      " 2   label                44689 non-null  int64 \n",
      "dtypes: int64(1), object(2)\n",
      "memory usage: 1.0+ MB\n"
     ]
    }
   ],
   "source": [
    "lstm_df = combined_df[['title_text', 'classification_lstm', 'label']]\n",
    "lstm_df.info()"
   ]
  },
  {
   "cell_type": "markdown",
   "id": "eb330e50-5b10-4fae-9289-5cb76877d27e",
   "metadata": {},
   "source": [
    "## Modeling "
   ]
  },
  {
   "cell_type": "markdown",
   "id": "b7ffa75b-2841-42e7-8846-ba0dd64176a5",
   "metadata": {
    "tags": []
   },
   "source": [
    "### Model 1 (1 Birectional LSTM layer and 1 unidirectional LSTM maxlen to 300) "
   ]
  },
  {
   "cell_type": "markdown",
   "id": "385b7037-973c-4041-92ee-9b7509bf743b",
   "metadata": {},
   "source": [
    "#### Create Word Embedding"
   ]
  },
  {
   "cell_type": "code",
   "execution_count": 10,
   "id": "cb4fca3b-bd27-452a-91f6-46b399ab661a",
   "metadata": {
    "tags": []
   },
   "outputs": [
    {
     "data": {
      "text/plain": [
       "227553"
      ]
     },
     "execution_count": 10,
     "metadata": {},
     "output_type": "execute_result"
    }
   ],
   "source": [
    "# tokenize text\n",
    "tokenizer = Tokenizer()\n",
    "tokenizer.fit_on_texts(lstm_df['classification_lstm'])\n",
    "word_index = tokenizer.word_index\n",
    "vocab_size = len(word_index)\n",
    "vocab_size"
   ]
  },
  {
   "cell_type": "code",
   "execution_count": 11,
   "id": "bde85574-8fe9-4676-9332-09c030b16d59",
   "metadata": {},
   "outputs": [],
   "source": [
    "# padding data\n",
    "# keep the maxlen to a reasonable number for machine to handle\n",
    "sequences = tokenizer.texts_to_sequences(lstm_df['classification_lstm'])\n",
    "#embedding_dim =100\n",
    "padded_sequences = pad_sequences(sequences, maxlen =300, padding ='post', truncating ='post')"
   ]
  },
  {
   "cell_type": "code",
   "execution_count": 12,
   "id": "74da6e6f-1338-4999-80d8-3f20d85e5c54",
   "metadata": {},
   "outputs": [],
   "source": [
    "# create embedding index\n",
    "embedding_index ={}\n",
    "with open('glove.6B.100d.txt', encoding='utf-8') as f:\n",
    "    for line in f:\n",
    "        values = line.split()\n",
    "        word = values[0]\n",
    "        coefs = np.asarray(values[1:], dtype ='float32')\n",
    "        embedding_index[word] = coefs"
   ]
  },
  {
   "cell_type": "code",
   "execution_count": 13,
   "id": "aa39c8b3-c874-48ec-b030-7af31fc5c526",
   "metadata": {},
   "outputs": [],
   "source": [
    "# create embedding matrix\n",
    "embedding_matrix = np.zeros((vocab_size+1,100))\n",
    "for word, i in word_index.items():\n",
    "    embedding_vector = embedding_index.get(word)\n",
    "    if embedding_vector is not None:\n",
    "        embedding_matrix[i] = embedding_vector"
   ]
  },
  {
   "cell_type": "markdown",
   "id": "8f429487-a080-464a-a090-e1af0973e1df",
   "metadata": {
    "tags": []
   },
   "source": [
    "#### Input Split"
   ]
  },
  {
   "cell_type": "code",
   "execution_count": 14,
   "id": "89115fa8-e904-4fe7-b752-23de7540dbb5",
   "metadata": {},
   "outputs": [],
   "source": [
    "# Define training and testing sets. Train/test split.\n",
    "X_train, X_test, y_train, y_test = train_test_split(padded_sequences,\n",
    "                                                    lstm_df['label'],\n",
    "                                                    test_size=0.25,\n",
    "                                                    stratify=lstm_df['label'],\n",
    "                                                    random_state=42)"
   ]
  },
  {
   "cell_type": "code",
   "execution_count": 15,
   "id": "e76dbf97-4036-4391-ae20-d9e49ac70fd6",
   "metadata": {},
   "outputs": [
    {
     "data": {
      "text/plain": [
       "(33516, 300)"
      ]
     },
     "execution_count": 15,
     "metadata": {},
     "output_type": "execute_result"
    }
   ],
   "source": [
    "X_train.shape"
   ]
  },
  {
   "cell_type": "code",
   "execution_count": 16,
   "id": "fb951980-30b3-4ca7-96b1-a5f35e8a4acd",
   "metadata": {},
   "outputs": [
    {
     "data": {
      "text/plain": [
       "(11173, 300)"
      ]
     },
     "execution_count": 16,
     "metadata": {},
     "output_type": "execute_result"
    }
   ],
   "source": [
    "X_test.shape"
   ]
  },
  {
   "cell_type": "markdown",
   "id": "b4057205-a25d-488e-a883-6508207ada10",
   "metadata": {},
   "source": [
    "#### Model Training"
   ]
  },
  {
   "cell_type": "code",
   "execution_count": 17,
   "id": "9df00215-47bf-4039-a496-ca10b56ed3c5",
   "metadata": {},
   "outputs": [],
   "source": [
    "model1 = Sequential([\n",
    "    Embedding(vocab_size+1, 100, input_length=300, weights =[embedding_matrix], trainable = False),\n",
    "    Dropout(0.2),\n",
    "    Bidirectional(LSTM(128, return_sequences = True)),\n",
    "    Dropout(0.2),\n",
    "    LSTM(64),\n",
    "    Dense(32, activation='relu'),\n",
    "    Dense(1, activation ='sigmoid')\n",
    "])"
   ]
  },
  {
   "cell_type": "code",
   "execution_count": 18,
   "id": "fa028666-cd3e-4a13-82af-186888e517ad",
   "metadata": {},
   "outputs": [
    {
     "name": "stdout",
     "output_type": "stream",
     "text": [
      "Model: \"sequential\"\n",
      "_________________________________________________________________\n",
      " Layer (type)                Output Shape              Param #   \n",
      "=================================================================\n",
      " embedding (Embedding)       (None, 300, 100)          22755400  \n",
      "                                                                 \n",
      " dropout (Dropout)           (None, 300, 100)          0         \n",
      "                                                                 \n",
      " bidirectional (Bidirectiona  (None, 300, 256)         234496    \n",
      " l)                                                              \n",
      "                                                                 \n",
      " dropout_1 (Dropout)         (None, 300, 256)          0         \n",
      "                                                                 \n",
      " lstm_1 (LSTM)               (None, 64)                82176     \n",
      "                                                                 \n",
      " dense (Dense)               (None, 32)                2080      \n",
      "                                                                 \n",
      " dense_1 (Dense)             (None, 1)                 33        \n",
      "                                                                 \n",
      "=================================================================\n",
      "Total params: 23,074,185\n",
      "Trainable params: 318,785\n",
      "Non-trainable params: 22,755,400\n",
      "_________________________________________________________________\n"
     ]
    }
   ],
   "source": [
    "model1.compile(loss ='binary_crossentropy', optimizer ='adam', metrics='accuracy')\n",
    "model1.summary()"
   ]
  },
  {
   "cell_type": "code",
   "execution_count": 19,
   "id": "d7b64d51-8298-4e5f-bfab-fbca1d21b881",
   "metadata": {},
   "outputs": [
    {
     "name": "stdout",
     "output_type": "stream",
     "text": [
      "Epoch 1/15\n",
      "131/131 [==============================] - 726s 6s/step - loss: 0.5355 - accuracy: 0.7152 - val_loss: 0.3104 - val_accuracy: 0.9022\n",
      "Epoch 2/15\n",
      "131/131 [==============================] - 788s 6s/step - loss: 0.2952 - accuracy: 0.8904 - val_loss: 0.2180 - val_accuracy: 0.9301\n",
      "Epoch 3/15\n",
      "131/131 [==============================] - 796s 6s/step - loss: 0.2012 - accuracy: 0.9259 - val_loss: 0.1808 - val_accuracy: 0.9327\n",
      "Epoch 4/15\n",
      "131/131 [==============================] - 787s 6s/step - loss: 0.1750 - accuracy: 0.9336 - val_loss: 0.1356 - val_accuracy: 0.9510\n",
      "Epoch 5/15\n",
      "131/131 [==============================] - 808s 6s/step - loss: 0.1339 - accuracy: 0.9506 - val_loss: 0.0990 - val_accuracy: 0.9646\n",
      "Epoch 6/15\n",
      "131/131 [==============================] - 824s 6s/step - loss: 0.0830 - accuracy: 0.9713 - val_loss: 0.0638 - val_accuracy: 0.9789\n",
      "Epoch 7/15\n",
      "131/131 [==============================] - 820s 6s/step - loss: 0.0605 - accuracy: 0.9792 - val_loss: 0.0457 - val_accuracy: 0.9852\n",
      "Epoch 8/15\n",
      "131/131 [==============================] - 796s 6s/step - loss: 0.0417 - accuracy: 0.9857 - val_loss: 0.0355 - val_accuracy: 0.9878\n",
      "Epoch 9/15\n",
      "131/131 [==============================] - 750s 6s/step - loss: 0.0344 - accuracy: 0.9878 - val_loss: 0.0299 - val_accuracy: 0.9900\n",
      "Epoch 10/15\n",
      "131/131 [==============================] - 743s 6s/step - loss: 0.0237 - accuracy: 0.9919 - val_loss: 0.0288 - val_accuracy: 0.9912\n",
      "Epoch 11/15\n",
      "131/131 [==============================] - 727s 6s/step - loss: 0.0221 - accuracy: 0.9925 - val_loss: 0.0231 - val_accuracy: 0.9925\n",
      "Epoch 12/15\n",
      "131/131 [==============================] - 701s 5s/step - loss: 0.0191 - accuracy: 0.9936 - val_loss: 0.0234 - val_accuracy: 0.9919\n",
      "Epoch 13/15\n",
      "131/131 [==============================] - 694s 5s/step - loss: 0.0135 - accuracy: 0.9953 - val_loss: 0.0234 - val_accuracy: 0.9919\n",
      "Epoch 14/15\n",
      "131/131 [==============================] - 700s 5s/step - loss: 0.0132 - accuracy: 0.9956 - val_loss: 0.0243 - val_accuracy: 0.9928\n",
      "Epoch 15/15\n",
      "131/131 [==============================] - 705s 5s/step - loss: 0.0123 - accuracy: 0.9960 - val_loss: 0.0168 - val_accuracy: 0.9950\n"
     ]
    }
   ],
   "source": [
    "# Train model\n",
    "callbacks = [EarlyStopping(monitor='val_loss')]\n",
    "history = model1.fit(X_train, y_train, epochs =15, batch_size =256, validation_data =(X_test, y_test))"
   ]
  },
  {
   "cell_type": "code",
   "execution_count": 20,
   "id": "91dfa297-8a92-4a7f-8e48-c426a91257e9",
   "metadata": {
    "tags": []
   },
   "outputs": [
    {
     "data": {
      "image/png": "[encoded data removed]",
      "text/plain": [
       "<Figure size 640x480 with 1 Axes>"
      ]
     },
     "metadata": {},
     "output_type": "display_data"
    }
   ],
   "source": [
    "# plot 'accuracy'\n",
    "plt.plot(history.history['accuracy'])\n",
    "plt.plot(history.history['val_accuracy'])\n",
    "plt.xlabel('epochs')\n",
    "plt.ylabel('accuracy')\n",
    "plt.legend(['train', 'test'])\n",
    "plt.show()"
   ]
  },
  {
   "cell_type": "code",
   "execution_count": 21,
   "id": "d8ee6aa9-53fe-4865-a323-190720849075",
   "metadata": {},
   "outputs": [
    {
     "data": {
      "image/png": "[encoded data removed]",
      "text/plain": [
       "<Figure size 640x480 with 1 Axes>"
      ]
     },
     "metadata": {},
     "output_type": "display_data"
    }
   ],
   "source": [
    "# plot for 'loss'\n",
    "plt.plot(history.history['loss'])\n",
    "plt.plot(history.history['val_loss'])\n",
    "plt.xlabel('epochs')\n",
    "plt.ylabel('loss')\n",
    "plt.legend(['train loss', 'test loss'])\n",
    "plt.show()"
   ]
  },
  {
   "cell_type": "markdown",
   "id": "dea3594f-4dd7-4131-a980-efc076807f1f",
   "metadata": {},
   "source": [
    "### Model 2 (1 Birectional LSTM layer and 1 unidirectional LSTM, maxlen 200)\n",
    "\n",
    "For Model 2, the maxlen of the text is reduced from 300 to 200.  This is to investigate if the performance of the model will improve when more text information is fed into the model for training.\n",
    "\n",
    "The following observations were made:\n",
    "* No significant reduction in performance as measured by the accuracy. Training and testing accuracy for model trained with maxlen =200 were comparable with that for the model trained with maxlen =300.\n",
    "* Significant reduction in run time / computation effort while only achieving comparable scores. Train time per step increase from 5 to 7 seconds per step to 2 to 3 seconds per step. "
   ]
  },
  {
   "cell_type": "markdown",
   "id": "a2cdac3c-555d-4d27-9a4d-e201bc42197d",
   "metadata": {},
   "source": [
    "#### Create Word Embeddings"
   ]
  },
  {
   "cell_type": "code",
   "execution_count": 22,
   "id": "f13954d4-1fd7-4197-be93-55bcca9476aa",
   "metadata": {
    "tags": []
   },
   "outputs": [
    {
     "data": {
      "text/plain": [
       "227553"
      ]
     },
     "execution_count": 22,
     "metadata": {},
     "output_type": "execute_result"
    }
   ],
   "source": [
    "# tokenize text\n",
    "tokenizer = Tokenizer()\n",
    "tokenizer.fit_on_texts(lstm_df['classification_lstm'])\n",
    "word_index = tokenizer.word_index\n",
    "vocab_size = len(word_index)\n",
    "vocab_size"
   ]
  },
  {
   "cell_type": "code",
   "execution_count": 23,
   "id": "5f0cdaa6-1250-4e24-9707-48af65a05695",
   "metadata": {},
   "outputs": [],
   "source": [
    "# padding data\n",
    "# keep the maxlen to a reasonable number for machine to handle\n",
    "sequences = tokenizer.texts_to_sequences(lstm_df['classification_lstm'])\n",
    "#embedding_dim =100\n",
    "padded_sequences = pad_sequences(sequences, maxlen =200, padding ='post', truncating ='post')"
   ]
  },
  {
   "cell_type": "code",
   "execution_count": 24,
   "id": "6a3d8c5a-203d-475b-abe1-822a6c3b7f66",
   "metadata": {},
   "outputs": [],
   "source": [
    "# create embedding index\n",
    "embedding_index ={}\n",
    "with open('glove.6B.100d.txt', encoding='utf-8') as f:\n",
    "    for line in f:\n",
    "        values = line.split()\n",
    "        word = values[0]\n",
    "        coefs = np.asarray(values[1:], dtype ='float32')\n",
    "        embedding_index[word] = coefs"
   ]
  },
  {
   "cell_type": "code",
   "execution_count": 25,
   "id": "b942935a-8078-4fdb-95fd-61bc02c37004",
   "metadata": {},
   "outputs": [],
   "source": [
    "# create embedding matrix\n",
    "embedding_matrix = np.zeros((vocab_size+1,100))\n",
    "for word, i in word_index.items():\n",
    "    embedding_vector = embedding_index.get(word)\n",
    "    if embedding_vector is not None:\n",
    "        embedding_matrix[i] = embedding_vector"
   ]
  },
  {
   "cell_type": "code",
   "execution_count": 26,
   "id": "2b47924e-d818-41e7-902a-84e88ac3b217",
   "metadata": {},
   "outputs": [],
   "source": [
    "#embedding_matrix[1]"
   ]
  },
  {
   "cell_type": "markdown",
   "id": "9a0afcc3-21cc-43a1-8c47-a835360805a7",
   "metadata": {},
   "source": [
    "#### Input Split"
   ]
  },
  {
   "cell_type": "code",
   "execution_count": 27,
   "id": "35c63580-645a-4201-a12d-ef0b5818973e",
   "metadata": {},
   "outputs": [],
   "source": [
    "#padded_seq[1]"
   ]
  },
  {
   "cell_type": "code",
   "execution_count": 28,
   "id": "524f7adb-a4d2-43a7-9175-ed4fea30454a",
   "metadata": {},
   "outputs": [],
   "source": [
    "# Define training and testing sets. Train/test split.\n",
    "X_train, X_test, y_train, y_test = train_test_split(padded_sequences,\n",
    "                                                    lstm_df['label'],\n",
    "                                                    test_size=0.25,\n",
    "                                                    stratify=lstm_df['label'],\n",
    "                                                    random_state=42)"
   ]
  },
  {
   "cell_type": "code",
   "execution_count": 29,
   "id": "0b46a8ca-59b8-4b48-878f-e3faddea5d8a",
   "metadata": {},
   "outputs": [
    {
     "data": {
      "text/plain": [
       "(33516, 200)"
      ]
     },
     "execution_count": 29,
     "metadata": {},
     "output_type": "execute_result"
    }
   ],
   "source": [
    "X_train.shape"
   ]
  },
  {
   "cell_type": "code",
   "execution_count": 30,
   "id": "b1ddbb18-c33e-480f-a069-a08b8f464523",
   "metadata": {},
   "outputs": [
    {
     "data": {
      "text/plain": [
       "(11173, 200)"
      ]
     },
     "execution_count": 30,
     "metadata": {},
     "output_type": "execute_result"
    }
   ],
   "source": [
    "X_test.shape"
   ]
  },
  {
   "cell_type": "markdown",
   "id": "d1ed15ea-7ac7-4cf9-ba42-e126dfccc3ea",
   "metadata": {},
   "source": [
    "#### Model Training"
   ]
  },
  {
   "cell_type": "code",
   "execution_count": 31,
   "id": "86a93adb-b003-45fb-9c49-acbbeb8d3b52",
   "metadata": {},
   "outputs": [],
   "source": [
    "model = Sequential([\n",
    "    Embedding(vocab_size+1, 100, input_length=200, weights =[embedding_matrix], trainable = False),\n",
    "    Dropout(0.2),\n",
    "    Bidirectional(LSTM(128, return_sequences = True)),\n",
    "    Dropout(0.2),\n",
    "    LSTM(64),\n",
    "    Dense(32, activation='relu'),\n",
    "    Dense(1, activation ='sigmoid')\n",
    "])"
   ]
  },
  {
   "cell_type": "code",
   "execution_count": 32,
   "id": "4ba3dc81-71ea-4318-937c-e38e1c93efdd",
   "metadata": {
    "tags": []
   },
   "outputs": [
    {
     "name": "stdout",
     "output_type": "stream",
     "text": [
      "Model: \"sequential_1\"\n",
      "_________________________________________________________________\n",
      " Layer (type)                Output Shape              Param #   \n",
      "=================================================================\n",
      " embedding_1 (Embedding)     (None, 200, 100)          22755400  \n",
      "                                                                 \n",
      " dropout_2 (Dropout)         (None, 200, 100)          0         \n",
      "                                                                 \n",
      " bidirectional_1 (Bidirectio  (None, 200, 256)         234496    \n",
      " nal)                                                            \n",
      "                                                                 \n",
      " dropout_3 (Dropout)         (None, 200, 256)          0         \n",
      "                                                                 \n",
      " lstm_3 (LSTM)               (None, 64)                82176     \n",
      "                                                                 \n",
      " dense_2 (Dense)             (None, 32)                2080      \n",
      "                                                                 \n",
      " dense_3 (Dense)             (None, 1)                 33        \n",
      "                                                                 \n",
      "=================================================================\n",
      "Total params: 23,074,185\n",
      "Trainable params: 318,785\n",
      "Non-trainable params: 22,755,400\n",
      "_________________________________________________________________\n"
     ]
    }
   ],
   "source": [
    "model.compile(loss ='binary_crossentropy', optimizer ='adam', metrics='accuracy')\n",
    "model.summary()"
   ]
  },
  {
   "cell_type": "code",
   "execution_count": 33,
   "id": "6eae4881-cf9d-4c50-a110-1cacd65d3c76",
   "metadata": {},
   "outputs": [
    {
     "name": "stdout",
     "output_type": "stream",
     "text": [
      "Epoch 1/15\n",
      "131/131 [==============================] - 345s 3s/step - loss: 0.4878 - accuracy: 0.7513 - val_loss: 0.4132 - val_accuracy: 0.8339\n",
      "Epoch 2/15\n",
      "131/131 [==============================] - 329s 3s/step - loss: 0.3158 - accuracy: 0.8806 - val_loss: 0.2214 - val_accuracy: 0.9274\n",
      "Epoch 3/15\n",
      "131/131 [==============================] - 338s 3s/step - loss: 0.2232 - accuracy: 0.9195 - val_loss: 0.1643 - val_accuracy: 0.9391\n",
      "Epoch 4/15\n",
      "131/131 [==============================] - 337s 3s/step - loss: 0.1427 - accuracy: 0.9455 - val_loss: 0.1068 - val_accuracy: 0.9640\n",
      "Epoch 5/15\n",
      "131/131 [==============================] - 338s 3s/step - loss: 0.0989 - accuracy: 0.9645 - val_loss: 0.0716 - val_accuracy: 0.9739\n",
      "Epoch 6/15\n",
      "131/131 [==============================] - 339s 3s/step - loss: 0.0641 - accuracy: 0.9769 - val_loss: 0.0544 - val_accuracy: 0.9803\n",
      "Epoch 7/15\n",
      "131/131 [==============================] - 336s 3s/step - loss: 0.0513 - accuracy: 0.9815 - val_loss: 0.0696 - val_accuracy: 0.9744\n",
      "Epoch 8/15\n",
      "131/131 [==============================] - 341s 3s/step - loss: 0.0371 - accuracy: 0.9873 - val_loss: 0.0304 - val_accuracy: 0.9892\n",
      "Epoch 9/15\n",
      "131/131 [==============================] - 338s 3s/step - loss: 0.0269 - accuracy: 0.9905 - val_loss: 0.0243 - val_accuracy: 0.9915\n",
      "Epoch 10/15\n",
      "131/131 [==============================] - 337s 3s/step - loss: 0.0220 - accuracy: 0.9919 - val_loss: 0.0293 - val_accuracy: 0.9902\n",
      "Epoch 11/15\n",
      "131/131 [==============================] - 336s 3s/step - loss: 0.0203 - accuracy: 0.9932 - val_loss: 0.0286 - val_accuracy: 0.9906\n",
      "Epoch 12/15\n",
      "131/131 [==============================] - 340s 3s/step - loss: 0.0194 - accuracy: 0.9934 - val_loss: 0.0214 - val_accuracy: 0.9928\n",
      "Epoch 13/15\n",
      "131/131 [==============================] - 336s 3s/step - loss: 0.0205 - accuracy: 0.9926 - val_loss: 0.0245 - val_accuracy: 0.9913\n",
      "Epoch 14/15\n",
      "131/131 [==============================] - 344s 3s/step - loss: 0.0119 - accuracy: 0.9961 - val_loss: 0.0259 - val_accuracy: 0.9925\n",
      "Epoch 15/15\n",
      "131/131 [==============================] - 341s 3s/step - loss: 0.0097 - accuracy: 0.9967 - val_loss: 0.0214 - val_accuracy: 0.9934\n"
     ]
    }
   ],
   "source": [
    "# Train model\n",
    "callbacks = [EarlyStopping(monitor='val_loss')]\n",
    "history = model.fit(X_train, y_train, epochs =15, batch_size =256, validation_data =(X_test, y_test))"
   ]
  },
  {
   "cell_type": "code",
   "execution_count": 34,
   "id": "5261c946-efb6-4e05-babe-5189f0240753",
   "metadata": {
    "tags": []
   },
   "outputs": [
    {
     "data": {
      "image/png": "[encoded data removed]",
      "text/plain": [
       "<Figure size 640x480 with 1 Axes>"
      ]
     },
     "metadata": {},
     "output_type": "display_data"
    }
   ],
   "source": [
    "# plot 'accuracy'\n",
    "plt.plot(history.history['accuracy'])\n",
    "plt.plot(history.history['val_accuracy'])\n",
    "plt.xlabel('epochs')\n",
    "plt.ylabel('accuracy')\n",
    "plt.legend(['train', 'test'])\n",
    "plt.show()"
   ]
  },
  {
   "cell_type": "code",
   "execution_count": 35,
   "id": "a5a80989-56bf-4e4e-bb28-b1ca315fba84",
   "metadata": {},
   "outputs": [
    {
     "data": {
      "image/png": "[encoded data removed]",
      "text/plain": [
       "<Figure size 640x480 with 1 Axes>"
      ]
     },
     "metadata": {},
     "output_type": "display_data"
    }
   ],
   "source": [
    "# plot for 'loss'\n",
    "plt.plot(history.history['loss'])\n",
    "plt.plot(history.history['val_loss'])\n",
    "plt.xlabel('epochs')\n",
    "plt.ylabel('loss')\n",
    "plt.legend(['train loss', 'test loss'])\n",
    "plt.show()"
   ]
  },
  {
   "cell_type": "markdown",
   "id": "1d5525d6-9151-4bdc-b8e6-38c259de33df",
   "metadata": {},
   "source": [
    "Assessment\n",
    "* Long Short Term Memory & GloVe Embeddings (model) to classify Text using Pre-trained Embeddings and Bidirectional LSTMs is able to generate accuracy performance of 0.995 (train) and 0.989 (test)"
   ]
  },
  {
   "cell_type": "markdown",
   "id": "28976d95-503d-4e11-8da7-6b74021301ac",
   "metadata": {},
   "source": [
    "### Model 3 (2 layers of unidirectional LSTM)"
   ]
  },
  {
   "cell_type": "markdown",
   "id": "45ad100f-1c1c-43d0-b4f2-e42076dfac8b",
   "metadata": {},
   "source": [
    "#### Model Training"
   ]
  },
  {
   "cell_type": "code",
   "execution_count": 36,
   "id": "ef561e02-a0be-4042-b33b-f01d40170f33",
   "metadata": {},
   "outputs": [],
   "source": [
    "model1 = Sequential([\n",
    "    Embedding(vocab_size+1, 100, input_length=200, weights =[embedding_matrix], trainable = False),\n",
    "    Dropout(0.2),\n",
    "    LSTM(128, return_sequences = True),\n",
    "    Dropout(0.2),\n",
    "    LSTM(64),\n",
    "    Dense(32, activation='relu'),\n",
    "    Dense(1, activation ='sigmoid')\n",
    "])"
   ]
  },
  {
   "cell_type": "code",
   "execution_count": 37,
   "id": "297df9aa-34a6-4379-a0a2-21754f9237f3",
   "metadata": {
    "tags": []
   },
   "outputs": [
    {
     "name": "stdout",
     "output_type": "stream",
     "text": [
      "Model: \"sequential_2\"\n",
      "_________________________________________________________________\n",
      " Layer (type)                Output Shape              Param #   \n",
      "=================================================================\n",
      " embedding_2 (Embedding)     (None, 200, 100)          22755400  \n",
      "                                                                 \n",
      " dropout_4 (Dropout)         (None, 200, 100)          0         \n",
      "                                                                 \n",
      " lstm_4 (LSTM)               (None, 200, 128)          117248    \n",
      "                                                                 \n",
      " dropout_5 (Dropout)         (None, 200, 128)          0         \n",
      "                                                                 \n",
      " lstm_5 (LSTM)               (None, 64)                49408     \n",
      "                                                                 \n",
      " dense_4 (Dense)             (None, 32)                2080      \n",
      "                                                                 \n",
      " dense_5 (Dense)             (None, 1)                 33        \n",
      "                                                                 \n",
      "=================================================================\n",
      "Total params: 22,924,169\n",
      "Trainable params: 168,769\n",
      "Non-trainable params: 22,755,400\n",
      "_________________________________________________________________\n"
     ]
    }
   ],
   "source": [
    "model1.compile(loss ='binary_crossentropy', optimizer ='adam', metrics='accuracy')\n",
    "model1.summary()"
   ]
  },
  {
   "cell_type": "code",
   "execution_count": 38,
   "id": "d3dcdbef-a95a-4718-a650-4cc5debaf132",
   "metadata": {},
   "outputs": [
    {
     "name": "stdout",
     "output_type": "stream",
     "text": [
      "Epoch 1/15\n",
      "131/131 [==============================] - 344s 3s/step - loss: 0.5585 - accuracy: 0.6904 - val_loss: 0.5316 - val_accuracy: 0.8274\n",
      "Epoch 2/15\n",
      "131/131 [==============================] - 296s 2s/step - loss: 0.6038 - accuracy: 0.6452 - val_loss: 0.4682 - val_accuracy: 0.8175\n",
      "Epoch 3/15\n",
      "131/131 [==============================] - 319s 2s/step - loss: 0.4895 - accuracy: 0.7825 - val_loss: 0.4806 - val_accuracy: 0.7782\n",
      "Epoch 4/15\n",
      "131/131 [==============================] - 313s 2s/step - loss: 0.4646 - accuracy: 0.7832 - val_loss: 0.4473 - val_accuracy: 0.7835\n",
      "Epoch 5/15\n",
      "131/131 [==============================] - 277s 2s/step - loss: 0.4498 - accuracy: 0.7923 - val_loss: 0.4240 - val_accuracy: 0.8094\n",
      "Epoch 6/15\n",
      "131/131 [==============================] - 278s 2s/step - loss: 0.3997 - accuracy: 0.8262 - val_loss: 0.3343 - val_accuracy: 0.8788\n",
      "Epoch 7/15\n",
      "131/131 [==============================] - 279s 2s/step - loss: 0.4396 - accuracy: 0.8280 - val_loss: 0.2854 - val_accuracy: 0.8962\n",
      "Epoch 8/15\n",
      "131/131 [==============================] - 277s 2s/step - loss: 0.3152 - accuracy: 0.8901 - val_loss: 0.2245 - val_accuracy: 0.9155\n",
      "Epoch 9/15\n",
      "131/131 [==============================] - 275s 2s/step - loss: 0.2162 - accuracy: 0.9198 - val_loss: 0.1978 - val_accuracy: 0.9276\n",
      "Epoch 10/15\n",
      "131/131 [==============================] - 272s 2s/step - loss: 0.1720 - accuracy: 0.9346 - val_loss: 0.1419 - val_accuracy: 0.9451\n",
      "Epoch 11/15\n",
      "131/131 [==============================] - 272s 2s/step - loss: 0.1336 - accuracy: 0.9506 - val_loss: 0.1391 - val_accuracy: 0.9523\n",
      "Epoch 12/15\n",
      "131/131 [==============================] - 282s 2s/step - loss: 0.1193 - accuracy: 0.9558 - val_loss: 0.1034 - val_accuracy: 0.9634\n",
      "Epoch 13/15\n",
      "131/131 [==============================] - 272s 2s/step - loss: 0.0914 - accuracy: 0.9679 - val_loss: 0.0753 - val_accuracy: 0.9729\n",
      "Epoch 14/15\n",
      "131/131 [==============================] - 273s 2s/step - loss: 0.0736 - accuracy: 0.9728 - val_loss: 0.0636 - val_accuracy: 0.9752\n",
      "Epoch 15/15\n",
      "131/131 [==============================] - 271s 2s/step - loss: 0.0588 - accuracy: 0.9788 - val_loss: 0.0534 - val_accuracy: 0.9820\n"
     ]
    }
   ],
   "source": [
    "# Train model\n",
    "callbacks = [EarlyStopping(monitor='val_loss')]\n",
    "history = model1.fit(X_train, y_train, epochs =15, batch_size =256, validation_data =(X_test, y_test))"
   ]
  },
  {
   "cell_type": "code",
   "execution_count": 39,
   "id": "42f3392b-1d6f-4317-9a01-85562c66cf75",
   "metadata": {
    "tags": []
   },
   "outputs": [
    {
     "data": {
      "image/png": "[encoded data removed]",
      "text/plain": [
       "<Figure size 640x480 with 1 Axes>"
      ]
     },
     "metadata": {},
     "output_type": "display_data"
    }
   ],
   "source": [
    "# plot 'accuracy'\n",
    "plt.plot(history.history['accuracy'])\n",
    "plt.plot(history.history['val_accuracy'])\n",
    "plt.xlabel('epochs')\n",
    "plt.ylabel('accuracy')\n",
    "plt.legend(['train', 'test'])\n",
    "plt.show()"
   ]
  },
  {
   "cell_type": "code",
   "execution_count": 40,
   "id": "1d76d266-2ddb-446b-a035-7ab810eb4c7e",
   "metadata": {},
   "outputs": [
    {
     "data": {
      "image/png": "[encoded data removed]",
      "text/plain": [
       "<Figure size 640x480 with 1 Axes>"
      ]
     },
     "metadata": {},
     "output_type": "display_data"
    }
   ],
   "source": [
    "# plot for 'loss'\n",
    "plt.plot(history.history['loss'])\n",
    "plt.plot(history.history['val_loss'])\n",
    "plt.xlabel('epochs')\n",
    "plt.ylabel('loss')\n",
    "plt.legend(['train loss', 'test loss'])\n",
    "plt.show()"
   ]
  },
  {
   "cell_type": "markdown",
   "id": "14922cae-8de9-45f1-899d-3bdc83877629",
   "metadata": {},
   "source": [
    "## Validation with Independent (Unseen) Dataset"
   ]
  },
  {
   "cell_type": "code",
   "execution_count": 41,
   "id": "92350fa3-80fa-4ab6-a6ae-0f9a662735cf",
   "metadata": {},
   "outputs": [],
   "source": [
    "val_df = pd.read_csv('./datasets/val_df.csv')"
   ]
  },
  {
   "cell_type": "code",
   "execution_count": 42,
   "id": "db6efd9b-97c9-400d-bccc-36a355820baf",
   "metadata": {},
   "outputs": [
    {
     "name": "stdout",
     "output_type": "stream",
     "text": [
      "<class 'pandas.core.frame.DataFrame'>\n",
      "RangeIndex: 1000 entries, 0 to 999\n",
      "Data columns (total 2 columns):\n",
      " #   Column      Non-Null Count  Dtype \n",
      "---  ------      --------------  ----- \n",
      " 0   title_text  1000 non-null   object\n",
      " 1   label       1000 non-null   int64 \n",
      "dtypes: int64(1), object(1)\n",
      "memory usage: 15.8+ KB\n"
     ]
    }
   ],
   "source": [
    "val_df.info()"
   ]
  },
  {
   "cell_type": "code",
   "execution_count": 43,
   "id": "b9d21b15-68c4-42dd-959f-5de45820cec8",
   "metadata": {},
   "outputs": [],
   "source": [
    "# lower case the text\n",
    "val_df['lower_case'] = val_df['title_text'].str.lower()"
   ]
  },
  {
   "cell_type": "code",
   "execution_count": 44,
   "id": "aae36ed2-8cfb-4119-b08a-fc5a0d6fc7d8",
   "metadata": {},
   "outputs": [],
   "source": [
    "# remove website addresses from selftext_title column\n",
    "# instantiate regex to identify and remove urls\n",
    "val_df['drop_url'] = val_df['lower_case'].apply(lambda text: re.sub(r\"http\\S+\", '', text))"
   ]
  },
  {
   "cell_type": "code",
   "execution_count": 45,
   "id": "432c1d01-ebd2-4a9a-9b58-23c20e358913",
   "metadata": {},
   "outputs": [],
   "source": [
    "# remove punctuations\n",
    "val_df['drop_punctuations'] = val_df['drop_url'].apply(lambda text: re.sub(r'[^\\w\\s]', '', text))"
   ]
  },
  {
   "cell_type": "code",
   "execution_count": 46,
   "id": "79686b07-715a-45b6-b34a-3c0417c04188",
   "metadata": {},
   "outputs": [],
   "source": [
    "# tokenize\n",
    "tokenizer = RegexpTokenizer(r\"[\\w']+\") \n",
    "val_df['tokenized'] = val_df['drop_punctuations'].apply(lambda text: tokenizer.tokenize(text))"
   ]
  },
  {
   "cell_type": "code",
   "execution_count": 47,
   "id": "e97a1b93-7618-43a7-94be-65392ee95f39",
   "metadata": {},
   "outputs": [],
   "source": [
    "stopwords_list = stopwords.words(\"english\")\n",
    "\n",
    "# some words provided the source of the article, which may reveal explictly if the news is fake or real.Such words will be omitted to make the model less bias towards source\n",
    "add_stopwords = [\"21wire\", \"twitter\", \"reuters\", '21WIRE', '21st', 'Century',  'Wire', 'somodevilla', 'getty', 'images', 'subscribe', 'member', 'realdonaldtrump']\n",
    "stopwords_list.extend(add_stopwords)"
   ]
  },
  {
   "cell_type": "code",
   "execution_count": 48,
   "id": "1812164b-8f09-4a27-a3db-27f2f38ff34a",
   "metadata": {},
   "outputs": [],
   "source": [
    "val_df['classification_lstm']= val_df['tokenized'].apply(lambda value: \" \".join( [word for word in value if word not in stopwords_list]))"
   ]
  },
  {
   "cell_type": "code",
   "execution_count": 49,
   "id": "491b101e-466e-488e-9013-6e83d29f0512",
   "metadata": {},
   "outputs": [],
   "source": [
    "X_val = val_df['classification_lstm']\n",
    "y_val = val_df['label']"
   ]
  },
  {
   "cell_type": "code",
   "execution_count": 50,
   "id": "5dc3df6e-c046-48d3-97b2-fabee6b9e569",
   "metadata": {},
   "outputs": [],
   "source": [
    "# tokenize text\n",
    "tokenizer = Tokenizer()\n",
    "tokenizer.fit_on_texts(X_val)"
   ]
  },
  {
   "cell_type": "code",
   "execution_count": 51,
   "id": "fb53f192-6644-4024-908f-8f948293501b",
   "metadata": {},
   "outputs": [],
   "source": [
    "# padding data\n",
    "# keep the maxlen to a reasonable number for machine to handle\n",
    "tokenized_val = tokenizer.texts_to_sequences(X_val)\n",
    "\n",
    "X_val = pad_sequences(tokenized_val, maxlen =200, padding ='post', truncating ='post')"
   ]
  },
  {
   "cell_type": "code",
   "execution_count": 53,
   "id": "a3917eee-22d9-4505-a43c-ed9004e9c7bd",
   "metadata": {},
   "outputs": [
    {
     "name": "stdout",
     "output_type": "stream",
     "text": [
      "1/1 [==============================] - 2s 2s/step\n",
      "              precision    recall  f1-score   support\n",
      "\n",
      "        Fake       0.63      0.17      0.27       500\n",
      "        Real       0.52      0.90      0.66       500\n",
      "\n",
      "    accuracy                           0.54      1000\n",
      "   macro avg       0.57      0.54      0.46      1000\n",
      "weighted avg       0.57      0.54      0.46      1000\n",
      "\n"
     ]
    }
   ],
   "source": [
    "from sklearn.metrics import classification_report\n",
    "unseen_pred = np.rint(model.predict([X_val], batch_size=1024, verbose=1)).astype('int')\n",
    "print(classification_report(y_val, unseen_pred, target_names = ['Fake','Real']))"
   ]
  },
  {
   "cell_type": "markdown",
   "id": "dedade79-c494-4afa-a3a2-43eed6260444",
   "metadata": {},
   "source": [
    "Poor performance on the unseen dataset.  This is likely due to inadequate data for the context learning to take place. "
   ]
  },
  {
   "cell_type": "markdown",
   "id": "0e60e50e-44e0-4222-a0eb-877d60b75797",
   "metadata": {},
   "source": [
    "## Summary of Modeling Performance"
   ]
  },
  {
   "cell_type": "markdown",
   "id": "3ab9ddca-549e-4b84-90f0-d294f7cd6a28",
   "metadata": {},
   "source": [
    "\n",
    "|Model|Transformer|Train Score (Accuracy)|Test Score (Accuracy)|Recall|\n",
    "|:---------:|:--------------:|:----------:|:----------:|:----------:|\n",
    "|  Multinomial Naive Bayes (Baseline)  |      Count Vectorizer     |   0.9505  | 0.9543  | -  |\n",
    "|   Multinomial Naive Bayes (Hyperparameter Tuning) |      TF-IDF Vectorizer     |   0.9344  |   0.9359 | - |\n",
    "|   Light Gradient Boosting Machine   |      Count  Vectorizer    |  0.9903  |   0.9931  |0.9935\n",
    "|  Logistics Regression  |     Count Vectorizer   |   0.9847  |   0.9873  | 0.9889  |\n",
    "|  SVM Linear Kernel |     Count Vectorizer   |   0.9838  |   0.9836  | 0.9851  |\n",
    "|   LSTM (2 x LSTM layer, 1 word embedding layer: best accuracy)  |     GloVe Embedding    |   0.9960 |   0.9950  | - |"
   ]
  },
  {
   "cell_type": "markdown",
   "id": "c21467a5-9856-441e-97db-49a942399eeb",
   "metadata": {},
   "source": [
    "- **Count Vectorizer** vs TF-IDF Vectorizer. Count Vectorizer outperforms TF-IDF. In this case the number of occurrence represent the importance of word. More frequency means more importance. This is unsurprising in this context as real and fake news may be generated with it's own unique style of writing and choice of words. Hence, spotting the more frequent occurrence of certain words improves the prediction.\n",
    "\n",
    "In this section, we will compare the performancce of the top 3 models identified.\n",
    "\n",
    "- LSTM (with GloVe embedding) gives the best accuracy performance followed by Light Gradient Boosting Machine and Logistic Regression. All 3 models have accuracy of 0.99.\n",
    "\n",
    "- **Light Gradient Boosting Machine\"** model uses the tree based learning approach  but is able to achieve faster training speed and high efficiency with its leave wise tree growth approach. This model is able to achieve the best training- and testing scores with no overfitting\n",
    "\n",
    "- **Logistic Regression** model was able to perform reasonably well. No overfitting observed as the differences in the train and test scores are relatively small. \n",
    "\n",
    "Overall, traditional machine learning models which adopts the bag of n-grams approach are able to perform reasonably well and they were also able to predict the unseen data set with fake news generated by the GPT-2 transformer accurately (~0.85). Logistic Regression model is the favoured model as it an efficient technique that dpes not require too many computational resources and is highly explainable.\n",
    "\n",
    "In our exploration of **LSTM (with GloVe embedding)**, it was determined that a model with One word embedding layer(untrainable) and two LSTM layers (trainable) were able to predict with a similar high accuracy of 0.996. However, when it was used to predict the unseen data, accuracy had dropped to ~0.57.\n",
    "\n",
    "- This may be potentially be attributed to the dataset being small and inadequate for neural network to be effectively applied. Since context is domain specific, inadequate dataset in each domain may result in the Bag of ngrams working better than neural network model as lack of data would means that you cannot find corresponding Vector from pre-trained word embedding models.\n",
    "\n",
    "Based on the above justifications, **Logistic Regression** (with hyperparameter tuning) is selected as the best model."
   ]
  }
 ],
 "metadata": {
  "kernelspec": {
   "display_name": "Python 3 (ipykernel)",
   "language": "python",
   "name": "python3"
  },
  "language_info": {
   "codemirror_mode": {
    "name": "ipython",
    "version": 3
   },
   "file_extension": ".py",
   "mimetype": "text/x-python",
   "name": "python",
   "nbconvert_exporter": "python",
   "pygments_lexer": "ipython3",
   "version": "3.8.13"
  }
 },
 "nbformat": 4,
 "nbformat_minor": 5
}
