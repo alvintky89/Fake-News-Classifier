{
 "cells": [
  {
   "cell_type": "markdown",
   "id": "bde9bb81-6903-47db-ab78-ee225cddd713",
   "metadata": {
    "id": "bde9bb81-6903-47db-ab78-ee225cddd713"
   },
   "source": [
    "<img src=\"http://imgur.com/1ZcRyrc.png\" style=\"float: left; margin: 20px; height: 55px\">\n",
    "\n",
    "# GA Capstone: Fake News Classifier\n",
    "\n",
    "Author: Tan Kai Yong Alvin"
   ]
  },
  {
   "cell_type": "markdown",
   "id": "94a04173-74f6-41f4-b743-c50c5925c71e",
   "metadata": {
    "id": "94a04173-74f6-41f4-b743-c50c5925c71e"
   },
   "source": [
    "# Notebook 2-1: Modeling\n",
    "In this section, we will apply machine learning models which uses the n-gram approach, whereby frequency of occurrence of each word is used as a feature to train the mode for fake news classification."
   ]
  },
  {
   "cell_type": "markdown",
   "id": "5e25df24-c653-4f54-a43f-28bda9037a17",
   "metadata": {},
   "source": [
    "## Libraries"
   ]
  },
  {
   "cell_type": "code",
   "execution_count": 1,
   "id": "f2088ce1-368e-4b15-9f57-e9c860e08d5a",
   "metadata": {
    "id": "f2088ce1-368e-4b15-9f57-e9c860e08d5a"
   },
   "outputs": [],
   "source": [
    "import pandas as pd\n",
    "import numpy as np\n",
    "import requests\n",
    "import matplotlib.pyplot as plt\n",
    "import seaborn as sns\n",
    "import time\n",
    "import re\n",
    "\n",
    "# preprocessing of data\n",
    "from nltk.tokenize import word_tokenize, RegexpTokenizer\n",
    "from nltk.corpus import stopwords\n",
    "from nltk.stem.porter import PorterStemmer\n",
    "from nltk.stem import WordNetLemmatizer\n",
    "\n",
    "# modelling\n",
    "from sklearn.feature_extraction.text import CountVectorizer, TfidfVectorizer\n",
    "from sklearn.model_selection import train_test_split, cross_val_score, GridSearchCV # split our data and run hyperparameter search\n",
    "from sklearn.pipeline import Pipeline # to compactly pack multiple modeling operations\n",
    "from sklearn.naive_bayes import MultinomialNB # to build our classification model\n",
    "from sklearn.metrics import confusion_matrix, ConfusionMatrixDisplay, plot_roc_curve, roc_auc_score # to access results from binary classification task (you may also import other specific classification metrics)\n",
    "from sklearn.linear_model import LogisticRegression\n",
    "from sklearn.ensemble import RandomForestClassifier\n",
    "\n",
    "# this setting widens how many characters pandas will display in a column:\n",
    "pd.options.display.max_colwidth = 400"
   ]
  },
  {
   "cell_type": "markdown",
   "id": "33d88ad7-9119-4d0a-93e1-e2bced389301",
   "metadata": {
    "id": "33d88ad7-9119-4d0a-93e1-e2bced389301"
   },
   "source": [
    "## Import"
   ]
  },
  {
   "cell_type": "code",
   "execution_count": 2,
   "id": "f027d340-bccf-46bf-af3e-624828014312",
   "metadata": {
    "id": "f027d340-bccf-46bf-af3e-624828014312"
   },
   "outputs": [],
   "source": [
    "classification_df = pd.read_csv('./datasets/classification_df.csv')"
   ]
  },
  {
   "cell_type": "code",
   "execution_count": 3,
   "id": "567e6cff-97c6-4b3d-8151-243d6bf7675f",
   "metadata": {
    "colab": {
     "base_uri": "https://localhost:8080/"
    },
    "id": "567e6cff-97c6-4b3d-8151-243d6bf7675f",
    "outputId": "2161e66c-4c07-435c-f1af-1e0a70824c28"
   },
   "outputs": [
    {
     "name": "stdout",
     "output_type": "stream",
     "text": [
      "<class 'pandas.core.frame.DataFrame'>\n",
      "RangeIndex: 44689 entries, 0 to 44688\n",
      "Data columns (total 4 columns):\n",
      " #   Column               Non-Null Count  Dtype \n",
      "---  ------               --------------  ----- \n",
      " 0   date                 44679 non-null  object\n",
      " 1   original_title_text  44689 non-null  object\n",
      " 2   classification_text  44680 non-null  object\n",
      " 3   label                44689 non-null  int64 \n",
      "dtypes: int64(1), object(3)\n",
      "memory usage: 1.4+ MB\n"
     ]
    }
   ],
   "source": [
    "classification_df.info()"
   ]
  },
  {
   "cell_type": "code",
   "execution_count": 4,
   "id": "cf75ceaf-a396-44a6-a1a8-797654b2239e",
   "metadata": {
    "colab": {
     "base_uri": "https://localhost:8080/",
     "height": 840
    },
    "id": "cf75ceaf-a396-44a6-a1a8-797654b2239e",
    "outputId": "980c4013-1a79-4c9f-9563-33078e66e01b"
   },
   "outputs": [
    {
     "data": {
      "text/html": [
       "<div>\n",
       "<style scoped>\n",
       "    .dataframe tbody tr th:only-of-type {\n",
       "        vertical-align: middle;\n",
       "    }\n",
       "\n",
       "    .dataframe tbody tr th {\n",
       "        vertical-align: top;\n",
       "    }\n",
       "\n",
       "    .dataframe thead th {\n",
       "        text-align: right;\n",
       "    }\n",
       "</style>\n",
       "<table border=\"1\" class=\"dataframe\">\n",
       "  <thead>\n",
       "    <tr style=\"text-align: right;\">\n",
       "      <th></th>\n",
       "      <th>date</th>\n",
       "      <th>original_title_text</th>\n",
       "      <th>classification_text</th>\n",
       "      <th>label</th>\n",
       "    </tr>\n",
       "  </thead>\n",
       "  <tbody>\n",
       "    <tr>\n",
       "      <th>0</th>\n",
       "      <td>2017-12-31</td>\n",
       "      <td>As U.S. budget fight looms, Republicans flip their fiscal script WASHINGTON (Reuters) - The head of a conservative Republican faction in the U.S. Congress, who voted this month for a huge expansion of the national debt to pay for tax cuts, called himself a “fiscal conservative” on Sunday and urged budget restraint in 2018. In keeping with a sharp pivot under way among Republicans, U.S. Represe...</td>\n",
       "      <td>u budget fight loom republican flip fiscal script washington head conservative republican faction u congress voted month huge expansion national debt pay tax cut called fiscal conservative sunday urged budget restraint 2018 keeping sharp pivot way among republican u representative mark meadow speaking cbs face nation drew hard line federal spending lawmaker bracing battle january return holida...</td>\n",
       "      <td>0</td>\n",
       "    </tr>\n",
       "    <tr>\n",
       "      <th>1</th>\n",
       "      <td>2017-12-29</td>\n",
       "      <td>U.S. military to accept transgender recruits on Monday: Pentagon WASHINGTON (Reuters) - Transgender people will be allowed for the first time to enlist in the U.S. military starting on Monday as ordered by federal courts, the Pentagon said on Friday, after President Donald Trump’s administration decided not to appeal rulings that blocked his transgender ban. Two federal appeals courts, one in ...</td>\n",
       "      <td>u military accept transgender recruit monday pentagon washington transgender people allowed first time enlist u military starting monday ordered federal court pentagon said friday president donald trump administration decided appeal ruling blocked transgender ban two federal appeal court one washington one virginia last week rejected administration request put hold order lower court judge requ...</td>\n",
       "      <td>0</td>\n",
       "    </tr>\n",
       "    <tr>\n",
       "      <th>2</th>\n",
       "      <td>2017-12-31</td>\n",
       "      <td>Senior U.S. Republican senator: 'Let Mr. Mueller do his job' WASHINGTON (Reuters) - The special counsel investigation of links between Russia and President Trump’s 2016 election campaign should continue without interference in 2018, despite calls from some Trump administration allies and Republican lawmakers to shut it down, a prominent Republican senator said on Sunday. Lindsey Graham, who se...</td>\n",
       "      <td>senior u republican senator let mr mueller job washington special counsel investigation link russia president trump 2016 election campaign continue without interference 2018 despite call trump administration ally republican lawmaker shut prominent republican senator said sunday lindsey graham serf senate armed force judiciary committee said department justice special counsel robert mueller nee...</td>\n",
       "      <td>0</td>\n",
       "    </tr>\n",
       "    <tr>\n",
       "      <th>3</th>\n",
       "      <td>2017-12-30</td>\n",
       "      <td>FBI Russia probe helped by Australian diplomat tip-off: NYT WASHINGTON (Reuters) - Trump campaign adviser George Papadopoulos told an Australian diplomat in May 2016 that Russia had political dirt on Democratic presidential candidate Hillary Clinton, the New York Times reported on Saturday. The conversation between Papadopoulos and the diplomat, Alexander Downer, in London was a driving factor...</td>\n",
       "      <td>fbi russia probe helped australian diplomat tipoff nyt washington trump campaign adviser george papadopoulos told australian diplomat may 2016 russia political dirt democratic presidential candidate hillary clinton new york time reported saturday conversation papadopoulos diplomat alexander downer london driving factor behind fbi decision open counterintelligence investigation moscow contact t...</td>\n",
       "      <td>0</td>\n",
       "    </tr>\n",
       "    <tr>\n",
       "      <th>4</th>\n",
       "      <td>2017-12-29</td>\n",
       "      <td>Trump wants Postal Service to charge 'much more' for Amazon shipments SEATTLE/WASHINGTON (Reuters) - President Donald Trump called on the U.S. Postal Service on Friday to charge “much more” to ship packages for Amazon (AMZN.O), picking another fight with an online retail giant he has criticized in the past.     “Why is the United States Post Office, which is losing many billions of dollars a y...</td>\n",
       "      <td>trump want postal service charge much amazon shipment seattlewashington president donald trump called u postal service friday charge much ship package amazon amzno picking another fight online retail giant criticized past united state post office losing many billion dollar year charging amazon others little deliver package making amazon richer post office dumber poorer charging much trump wrot...</td>\n",
       "      <td>0</td>\n",
       "    </tr>\n",
       "  </tbody>\n",
       "</table>\n",
       "</div>"
      ],
      "text/plain": [
       "         date  \\\n",
       "0  2017-12-31   \n",
       "1  2017-12-29   \n",
       "2  2017-12-31   \n",
       "3  2017-12-30   \n",
       "4  2017-12-29   \n",
       "\n",
       "                                                                                                                                                                                                                                                                                                                                                                                               original_title_text  \\\n",
       "0  As U.S. budget fight looms, Republicans flip their fiscal script WASHINGTON (Reuters) - The head of a conservative Republican faction in the U.S. Congress, who voted this month for a huge expansion of the national debt to pay for tax cuts, called himself a “fiscal conservative” on Sunday and urged budget restraint in 2018. In keeping with a sharp pivot under way among Republicans, U.S. Represe...   \n",
       "1  U.S. military to accept transgender recruits on Monday: Pentagon WASHINGTON (Reuters) - Transgender people will be allowed for the first time to enlist in the U.S. military starting on Monday as ordered by federal courts, the Pentagon said on Friday, after President Donald Trump’s administration decided not to appeal rulings that blocked his transgender ban. Two federal appeals courts, one in ...   \n",
       "2  Senior U.S. Republican senator: 'Let Mr. Mueller do his job' WASHINGTON (Reuters) - The special counsel investigation of links between Russia and President Trump’s 2016 election campaign should continue without interference in 2018, despite calls from some Trump administration allies and Republican lawmakers to shut it down, a prominent Republican senator said on Sunday. Lindsey Graham, who se...   \n",
       "3  FBI Russia probe helped by Australian diplomat tip-off: NYT WASHINGTON (Reuters) - Trump campaign adviser George Papadopoulos told an Australian diplomat in May 2016 that Russia had political dirt on Democratic presidential candidate Hillary Clinton, the New York Times reported on Saturday. The conversation between Papadopoulos and the diplomat, Alexander Downer, in London was a driving factor...   \n",
       "4  Trump wants Postal Service to charge 'much more' for Amazon shipments SEATTLE/WASHINGTON (Reuters) - President Donald Trump called on the U.S. Postal Service on Friday to charge “much more” to ship packages for Amazon (AMZN.O), picking another fight with an online retail giant he has criticized in the past.     “Why is the United States Post Office, which is losing many billions of dollars a y...   \n",
       "\n",
       "                                                                                                                                                                                                                                                                                                                                                                                               classification_text  \\\n",
       "0  u budget fight loom republican flip fiscal script washington head conservative republican faction u congress voted month huge expansion national debt pay tax cut called fiscal conservative sunday urged budget restraint 2018 keeping sharp pivot way among republican u representative mark meadow speaking cbs face nation drew hard line federal spending lawmaker bracing battle january return holida...   \n",
       "1  u military accept transgender recruit monday pentagon washington transgender people allowed first time enlist u military starting monday ordered federal court pentagon said friday president donald trump administration decided appeal ruling blocked transgender ban two federal appeal court one washington one virginia last week rejected administration request put hold order lower court judge requ...   \n",
       "2  senior u republican senator let mr mueller job washington special counsel investigation link russia president trump 2016 election campaign continue without interference 2018 despite call trump administration ally republican lawmaker shut prominent republican senator said sunday lindsey graham serf senate armed force judiciary committee said department justice special counsel robert mueller nee...   \n",
       "3  fbi russia probe helped australian diplomat tipoff nyt washington trump campaign adviser george papadopoulos told australian diplomat may 2016 russia political dirt democratic presidential candidate hillary clinton new york time reported saturday conversation papadopoulos diplomat alexander downer london driving factor behind fbi decision open counterintelligence investigation moscow contact t...   \n",
       "4  trump want postal service charge much amazon shipment seattlewashington president donald trump called u postal service friday charge much ship package amazon amzno picking another fight online retail giant criticized past united state post office losing many billion dollar year charging amazon others little deliver package making amazon richer post office dumber poorer charging much trump wrot...   \n",
       "\n",
       "   label  \n",
       "0      0  \n",
       "1      0  \n",
       "2      0  \n",
       "3      0  \n",
       "4      0  "
      ]
     },
     "execution_count": 4,
     "metadata": {},
     "output_type": "execute_result"
    }
   ],
   "source": [
    "classification_df.head()"
   ]
  },
  {
   "cell_type": "code",
   "execution_count": 5,
   "id": "a3586123-fb47-43f6-b7b5-43550bccd719",
   "metadata": {
    "colab": {
     "base_uri": "https://localhost:8080/",
     "height": 601
    },
    "id": "a3586123-fb47-43f6-b7b5-43550bccd719",
    "outputId": "38fce82f-93c8-487b-e5d2-6e33ccf35424"
   },
   "outputs": [
    {
     "data": {
      "text/html": [
       "<div>\n",
       "<style scoped>\n",
       "    .dataframe tbody tr th:only-of-type {\n",
       "        vertical-align: middle;\n",
       "    }\n",
       "\n",
       "    .dataframe tbody tr th {\n",
       "        vertical-align: top;\n",
       "    }\n",
       "\n",
       "    .dataframe thead th {\n",
       "        text-align: right;\n",
       "    }\n",
       "</style>\n",
       "<table border=\"1\" class=\"dataframe\">\n",
       "  <thead>\n",
       "    <tr style=\"text-align: right;\">\n",
       "      <th></th>\n",
       "      <th>date</th>\n",
       "      <th>original_title_text</th>\n",
       "      <th>classification_text</th>\n",
       "      <th>label</th>\n",
       "    </tr>\n",
       "  </thead>\n",
       "  <tbody>\n",
       "    <tr>\n",
       "      <th>30569</th>\n",
       "      <td>NaN</td>\n",
       "      <td>https://100percentfedup.com/served-roy-moore-vietnamletter-veteran-sets-record-straight-honorable-decent-respectable-patriotic-commander-soldier/ https://100percentfedup.com/served-roy-moore-vietnamletter-veteran-sets-record-straight-honorable-decent-respectable-patriotic-commander-soldier/</td>\n",
       "      <td>NaN</td>\n",
       "      <td>1</td>\n",
       "    </tr>\n",
       "    <tr>\n",
       "      <th>36715</th>\n",
       "      <td>NaN</td>\n",
       "      <td>https://100percentfedup.com/video-hillary-asked-about-trump-i-just-want-to-eat-some-pie/ https://100percentfedup.com/video-hillary-asked-about-trump-i-just-want-to-eat-some-pie/</td>\n",
       "      <td>NaN</td>\n",
       "      <td>1</td>\n",
       "    </tr>\n",
       "    <tr>\n",
       "      <th>36716</th>\n",
       "      <td>NaN</td>\n",
       "      <td>https://100percentfedup.com/12-yr-old-black-conservative-whose-video-to-obama-went-viral-do-you-really-love-america-receives-death-threats-from-left/ https://100percentfedup.com/12-yr-old-black-conservative-whose-video-to-obama-went-viral-do-you-really-love-america-receives-death-threats-from-left/</td>\n",
       "      <td>NaN</td>\n",
       "      <td>1</td>\n",
       "    </tr>\n",
       "    <tr>\n",
       "      <th>37047</th>\n",
       "      <td>NaN</td>\n",
       "      <td>https://fedup.wpengine.com/wp-content/uploads/2015/04/hillarystreetart.jpg https://fedup.wpengine.com/wp-content/uploads/2015/04/hillarystreetart.jpg</td>\n",
       "      <td>NaN</td>\n",
       "      <td>1</td>\n",
       "    </tr>\n",
       "    <tr>\n",
       "      <th>37048</th>\n",
       "      <td>NaN</td>\n",
       "      <td>https://fedup.wpengine.com/wp-content/uploads/2015/04/entitled.jpg https://fedup.wpengine.com/wp-content/uploads/2015/04/entitled.jpg</td>\n",
       "      <td>NaN</td>\n",
       "      <td>1</td>\n",
       "    </tr>\n",
       "    <tr>\n",
       "      <th>38640</th>\n",
       "      <td>NaN</td>\n",
       "      <td>https://fedup.wpengine.com/wp-content/uploads/2015/04/hillarystreetart.jpg https://fedup.wpengine.com/wp-content/uploads/2015/04/hillarystreetart.jpg</td>\n",
       "      <td>NaN</td>\n",
       "      <td>1</td>\n",
       "    </tr>\n",
       "    <tr>\n",
       "      <th>38641</th>\n",
       "      <td>NaN</td>\n",
       "      <td>https://fedup.wpengine.com/wp-content/uploads/2015/04/entitled.jpg https://fedup.wpengine.com/wp-content/uploads/2015/04/entitled.jpg</td>\n",
       "      <td>NaN</td>\n",
       "      <td>1</td>\n",
       "    </tr>\n",
       "    <tr>\n",
       "      <th>43077</th>\n",
       "      <td>NaN</td>\n",
       "      <td>https://fedup.wpengine.com/wp-content/uploads/2015/04/hillarystreetart.jpg https://fedup.wpengine.com/wp-content/uploads/2015/04/hillarystreetart.jpg</td>\n",
       "      <td>NaN</td>\n",
       "      <td>1</td>\n",
       "    </tr>\n",
       "    <tr>\n",
       "      <th>43078</th>\n",
       "      <td>NaN</td>\n",
       "      <td>https://fedup.wpengine.com/wp-content/uploads/2015/04/entitled.jpg https://fedup.wpengine.com/wp-content/uploads/2015/04/entitled.jpg</td>\n",
       "      <td>NaN</td>\n",
       "      <td>1</td>\n",
       "    </tr>\n",
       "  </tbody>\n",
       "</table>\n",
       "</div>"
      ],
      "text/plain": [
       "      date  \\\n",
       "30569  NaN   \n",
       "36715  NaN   \n",
       "36716  NaN   \n",
       "37047  NaN   \n",
       "37048  NaN   \n",
       "38640  NaN   \n",
       "38641  NaN   \n",
       "43077  NaN   \n",
       "43078  NaN   \n",
       "\n",
       "                                                                                                                                                                                                                                                                                               original_title_text  \\\n",
       "30569          https://100percentfedup.com/served-roy-moore-vietnamletter-veteran-sets-record-straight-honorable-decent-respectable-patriotic-commander-soldier/ https://100percentfedup.com/served-roy-moore-vietnamletter-veteran-sets-record-straight-honorable-decent-respectable-patriotic-commander-soldier/   \n",
       "36715                                                                                                                            https://100percentfedup.com/video-hillary-asked-about-trump-i-just-want-to-eat-some-pie/ https://100percentfedup.com/video-hillary-asked-about-trump-i-just-want-to-eat-some-pie/   \n",
       "36716  https://100percentfedup.com/12-yr-old-black-conservative-whose-video-to-obama-went-viral-do-you-really-love-america-receives-death-threats-from-left/ https://100percentfedup.com/12-yr-old-black-conservative-whose-video-to-obama-went-viral-do-you-really-love-america-receives-death-threats-from-left/   \n",
       "37047                                                                                                                                                        https://fedup.wpengine.com/wp-content/uploads/2015/04/hillarystreetart.jpg https://fedup.wpengine.com/wp-content/uploads/2015/04/hillarystreetart.jpg   \n",
       "37048                                                                                                                                                                        https://fedup.wpengine.com/wp-content/uploads/2015/04/entitled.jpg https://fedup.wpengine.com/wp-content/uploads/2015/04/entitled.jpg   \n",
       "38640                                                                                                                                                        https://fedup.wpengine.com/wp-content/uploads/2015/04/hillarystreetart.jpg https://fedup.wpengine.com/wp-content/uploads/2015/04/hillarystreetart.jpg   \n",
       "38641                                                                                                                                                                        https://fedup.wpengine.com/wp-content/uploads/2015/04/entitled.jpg https://fedup.wpengine.com/wp-content/uploads/2015/04/entitled.jpg   \n",
       "43077                                                                                                                                                        https://fedup.wpengine.com/wp-content/uploads/2015/04/hillarystreetart.jpg https://fedup.wpengine.com/wp-content/uploads/2015/04/hillarystreetart.jpg   \n",
       "43078                                                                                                                                                                        https://fedup.wpengine.com/wp-content/uploads/2015/04/entitled.jpg https://fedup.wpengine.com/wp-content/uploads/2015/04/entitled.jpg   \n",
       "\n",
       "      classification_text  label  \n",
       "30569                 NaN      1  \n",
       "36715                 NaN      1  \n",
       "36716                 NaN      1  \n",
       "37047                 NaN      1  \n",
       "37048                 NaN      1  \n",
       "38640                 NaN      1  \n",
       "38641                 NaN      1  \n",
       "43077                 NaN      1  \n",
       "43078                 NaN      1  "
      ]
     },
     "execution_count": 5,
     "metadata": {},
     "output_type": "execute_result"
    }
   ],
   "source": [
    "# check for nulls\n",
    "# the nulls in the dates column will not be processed for now as it will not be used for the assessment\n",
    "classification_df[classification_df['classification_text'].isnull()]"
   ]
  },
  {
   "cell_type": "code",
   "execution_count": 6,
   "id": "1b94aa34-3b0e-4a2d-9ebd-97feda6a428d",
   "metadata": {
    "colab": {
     "base_uri": "https://localhost:8080/"
    },
    "id": "1b94aa34-3b0e-4a2d-9ebd-97feda6a428d",
    "outputId": "ddbab462-b526-48e5-cb8d-4db3dfca5b42"
   },
   "outputs": [
    {
     "name": "stdout",
     "output_type": "stream",
     "text": [
      "<class 'pandas.core.frame.DataFrame'>\n",
      "Int64Index: 44680 entries, 0 to 44688\n",
      "Data columns (total 4 columns):\n",
      " #   Column               Non-Null Count  Dtype \n",
      "---  ------               --------------  ----- \n",
      " 0   date                 44679 non-null  object\n",
      " 1   original_title_text  44680 non-null  object\n",
      " 2   classification_text  44680 non-null  object\n",
      " 3   label                44680 non-null  int64 \n",
      "dtypes: int64(1), object(3)\n",
      "memory usage: 1.7+ MB\n"
     ]
    }
   ],
   "source": [
    "# these nulls are made up of white spaces with title comprising of URLs, since they are not useful for prediction, the rows will be dropped.\n",
    "classification_df.dropna(subset=['classification_text'], inplace = True)\n",
    "classification_df.info()"
   ]
  },
  {
   "cell_type": "code",
   "execution_count": 7,
   "id": "ad4d664b-115f-4ee0-b408-5cb9e4481749",
   "metadata": {
    "id": "ad4d664b-115f-4ee0-b408-5cb9e4481749"
   },
   "outputs": [],
   "source": [
    "# classification_df['date'] = pd.to_datetime(classification_df['date'])"
   ]
  },
  {
   "cell_type": "code",
   "execution_count": 8,
   "id": "7c81f515-a888-4bdb-bf98-7cc39a56dfda",
   "metadata": {
    "id": "7c81f515-a888-4bdb-bf98-7cc39a56dfda"
   },
   "outputs": [],
   "source": [
    "# define X and y\n",
    "X = classification_df['classification_text']\n",
    "y = classification_df['label']"
   ]
  },
  {
   "cell_type": "markdown",
   "id": "d8dc82f2-dacc-446c-80f9-2fa53fd2dbd3",
   "metadata": {
    "id": "d8dc82f2-dacc-446c-80f9-2fa53fd2dbd3"
   },
   "source": [
    "## Train/ Test Split"
   ]
  },
  {
   "cell_type": "code",
   "execution_count": 9,
   "id": "3b19e5e8-1ee4-4fe2-8636-e85a504a7aa7",
   "metadata": {
    "id": "3b19e5e8-1ee4-4fe2-8636-e85a504a7aa7"
   },
   "outputs": [],
   "source": [
    "# Define training and testing sets. Train/test split.\n",
    "X_train, X_test, y_train, y_test = train_test_split(X,\n",
    "                                                    y,\n",
    "                                                    test_size=0.25,\n",
    "                                                    stratify=y,\n",
    "                                                    random_state=42)"
   ]
  },
  {
   "cell_type": "markdown",
   "id": "f52e4e44-a454-4044-8f2b-7f54be7320d8",
   "metadata": {
    "id": "f52e4e44-a454-4044-8f2b-7f54be7320d8"
   },
   "source": [
    "## Null Model"
   ]
  },
  {
   "cell_type": "code",
   "execution_count": 10,
   "id": "0a4df539-bb4a-4a65-80a7-fcaaff60c02e",
   "metadata": {
    "colab": {
     "base_uri": "https://localhost:8080/"
    },
    "id": "0a4df539-bb4a-4a65-80a7-fcaaff60c02e",
    "outputId": "4a457448-6fae-4226-abfe-8f8a2d7a870c"
   },
   "outputs": [
    {
     "data": {
      "text/plain": [
       "1    0.525246\n",
       "0    0.474754\n",
       "Name: label, dtype: float64"
      ]
     },
     "execution_count": 10,
     "metadata": {},
     "output_type": "execute_result"
    }
   ],
   "source": [
    "y_test.value_counts(normalize = True)"
   ]
  },
  {
   "cell_type": "markdown",
   "id": "89bc5ae1-6fff-4cf3-9f79-51e97138150e",
   "metadata": {
    "id": "89bc5ae1-6fff-4cf3-9f79-51e97138150e"
   },
   "source": [
    "The data set is balanced. In this case, predicting everything as the majority class will give us 52.3 % accuracy.\n",
    "\n",
    "Since the aim of the project is a binary classification problem with a balanced data set, the metric 'Accuracy' will be used to score and evaluate the model. \n",
    "\n",
    "In addition, I will also be prioritising minimising of fake news being classified as real news (false negative rate). In this context, it is more detrimental when a fake news is being classified as real news as fake news may be misleading and cause unnecessary destress or societal unrest. As such, we will also evaulate base on the 'Recall' metric."
   ]
  },
  {
   "cell_type": "markdown",
   "id": "490b7281-7acb-46bf-aa44-613bffcfc6a3",
   "metadata": {
    "id": "490b7281-7acb-46bf-aa44-613bffcfc6a3"
   },
   "source": [
    "## Baseline Model: Naive Bayes with Count Vectorizer"
   ]
  },
  {
   "cell_type": "markdown",
   "id": "b3dfa80c-b7f4-453e-880c-e6fbf653d443",
   "metadata": {
    "id": "b3dfa80c-b7f4-453e-880c-e6fbf653d443"
   },
   "source": [
    "First, I will apply the Multinomial Naive Bayes with count vectorizer as our baseline model."
   ]
  },
  {
   "cell_type": "code",
   "execution_count": 11,
   "id": "37b39011-3da4-4071-b52c-c21830bf1170",
   "metadata": {
    "id": "37b39011-3da4-4071-b52c-c21830bf1170"
   },
   "outputs": [],
   "source": [
    "cvec = CountVectorizer()"
   ]
  },
  {
   "cell_type": "code",
   "execution_count": 12,
   "id": "be584f23-e502-48d1-b816-74fcf8772853",
   "metadata": {
    "id": "be584f23-e502-48d1-b816-74fcf8772853"
   },
   "outputs": [],
   "source": [
    "X_train_data_features_cvec = cvec.fit_transform(X_train)\n",
    "X_test_data_features_cvec = cvec.transform(X_test)"
   ]
  },
  {
   "cell_type": "code",
   "execution_count": 13,
   "id": "2825b746-4b3f-43e5-b9ba-d516f8ab73fb",
   "metadata": {
    "id": "2825b746-4b3f-43e5-b9ba-d516f8ab73fb"
   },
   "outputs": [],
   "source": [
    "nb = MultinomialNB()"
   ]
  },
  {
   "cell_type": "code",
   "execution_count": 14,
   "id": "36de3643-dd94-4965-acc1-980bde8c0bfe",
   "metadata": {
    "colab": {
     "base_uri": "https://localhost:8080/"
    },
    "id": "36de3643-dd94-4965-acc1-980bde8c0bfe",
    "outputId": "ada17233-dfd6-45f2-d8ce-3ad36eb24c65"
   },
   "outputs": [
    {
     "data": {
      "text/plain": [
       "MultinomialNB()"
      ]
     },
     "execution_count": 14,
     "metadata": {},
     "output_type": "execute_result"
    }
   ],
   "source": [
    "nb.fit(X_train_data_features_cvec, y_train)"
   ]
  },
  {
   "cell_type": "code",
   "execution_count": 15,
   "id": "4d2edf4c-b083-4b57-a2dc-8e2a4fcebbbe",
   "metadata": {
    "colab": {
     "base_uri": "https://localhost:8080/"
    },
    "id": "4d2edf4c-b083-4b57-a2dc-8e2a4fcebbbe",
    "outputId": "50b9fb58-6b45-48f7-d4a7-d6fae12b7062"
   },
   "outputs": [
    {
     "data": {
      "text/plain": [
       "0.9618024470307371"
      ]
     },
     "execution_count": 15,
     "metadata": {},
     "output_type": "execute_result"
    }
   ],
   "source": [
    "nb.score(X_train_data_features_cvec, y_train)"
   ]
  },
  {
   "cell_type": "code",
   "execution_count": 16,
   "id": "a0acd86a-47ac-44fd-ba2a-266eff7ecf02",
   "metadata": {
    "colab": {
     "base_uri": "https://localhost:8080/"
    },
    "id": "a0acd86a-47ac-44fd-ba2a-266eff7ecf02",
    "outputId": "797ce903-11c2-4e3f-e4aa-b6157a8540ea"
   },
   "outputs": [
    {
     "data": {
      "text/plain": [
       "0.9504923903312443"
      ]
     },
     "execution_count": 16,
     "metadata": {},
     "output_type": "execute_result"
    }
   ],
   "source": [
    "cross_val_score(nb, X_train_data_features_cvec, y_train, cv=5).mean()"
   ]
  },
  {
   "cell_type": "code",
   "execution_count": 17,
   "id": "e88c7442-74b4-4484-84de-d21bc9a50f8f",
   "metadata": {
    "colab": {
     "base_uri": "https://localhost:8080/"
    },
    "id": "e88c7442-74b4-4484-84de-d21bc9a50f8f",
    "outputId": "21e4994c-deb1-4d86-be6d-14d4c991d6d9"
   },
   "outputs": [
    {
     "data": {
      "text/plain": [
       "0.9542524619516563"
      ]
     },
     "execution_count": 17,
     "metadata": {},
     "output_type": "execute_result"
    }
   ],
   "source": [
    "nb.score(X_test_data_features_cvec, y_test)"
   ]
  },
  {
   "cell_type": "code",
   "execution_count": 18,
   "id": "b837cb65-0143-49ec-81bd-7a006e89092a",
   "metadata": {
    "colab": {
     "base_uri": "https://localhost:8080/"
    },
    "id": "b837cb65-0143-49ec-81bd-7a006e89092a",
    "outputId": "86c278f4-b2bc-471e-93c8-fcd54fd226de"
   },
   "outputs": [
    {
     "name": "stdout",
     "output_type": "stream",
     "text": [
      "[0 1 1 ... 1 1 0]\n"
     ]
    }
   ],
   "source": [
    "# Get predictions\n",
    "preds = nb.predict(X_test_data_features_cvec)\n",
    "print(preds)"
   ]
  },
  {
   "cell_type": "code",
   "execution_count": 19,
   "id": "78d39813-5620-4c44-823c-0233c177203d",
   "metadata": {
    "colab": {
     "base_uri": "https://localhost:8080/"
    },
    "id": "78d39813-5620-4c44-823c-0233c177203d",
    "outputId": "5fd6dbc0-aab6-41b7-a4e7-6fc83e19c4a1"
   },
   "outputs": [
    {
     "data": {
      "text/plain": [
       "array([[5054,  249],\n",
       "       [ 262, 5605]], dtype=int64)"
      ]
     },
     "execution_count": 19,
     "metadata": {},
     "output_type": "execute_result"
    }
   ],
   "source": [
    "# confusion matrix yields a 2-D array\n",
    "confusion_matrix(y_test, preds) "
   ]
  },
  {
   "cell_type": "code",
   "execution_count": 20,
   "id": "398f7711-19fb-4d5a-a86a-d52450bd6751",
   "metadata": {
    "colab": {
     "base_uri": "https://localhost:8080/"
    },
    "id": "398f7711-19fb-4d5a-a86a-d52450bd6751",
    "outputId": "cae39303-ae17-4203-ee1d-13e036dcbf1c"
   },
   "outputs": [
    {
     "name": "stdout",
     "output_type": "stream",
     "text": [
      "5054 249 262 5605\n"
     ]
    }
   ],
   "source": [
    "# ravel() to convert to 1-D and Save confusion matrix values\n",
    "tn, fp, fn, tp = confusion_matrix(y_test, preds).ravel()\n",
    "print(tn, fp, fn, tp)"
   ]
  },
  {
   "cell_type": "code",
   "execution_count": 21,
   "id": "adffb53b-6b28-423d-897d-c8496db77f52",
   "metadata": {
    "colab": {
     "base_uri": "https://localhost:8080/",
     "height": 295
    },
    "id": "adffb53b-6b28-423d-897d-c8496db77f52",
    "outputId": "0c8a251b-4e5a-4e4f-f8cc-f1f2b9d99c00"
   },
   "outputs": [
    {
     "data": {
      "image/png": "[encoded data removed]",
      "text/plain": [
       "<Figure size 640x480 with 2 Axes>"
      ]
     },
     "metadata": {},
     "output_type": "display_data"
    }
   ],
   "source": [
    "# plot confusion matrix\n",
    "cm = confusion_matrix(y_test, preds)\n",
    "disp = ConfusionMatrixDisplay(confusion_matrix=cm, display_labels=['real', 'fake'])\n",
    "disp.plot()\n",
    "plt.title('Confusion Matrix for NB (CVEC)', fontsize =12);"
   ]
  },
  {
   "cell_type": "markdown",
   "id": "J20xvO-Pyje5",
   "metadata": {
    "id": "J20xvO-Pyje5"
   },
   "source": [
    "## Model 2: Naive Bayes with TF-IDF Vectorizer"
   ]
  },
  {
   "cell_type": "code",
   "execution_count": 22,
   "id": "33ff1e30-9987-4231-bc77-c7dbbb979152",
   "metadata": {
    "id": "33ff1e30-9987-4231-bc77-c7dbbb979152"
   },
   "outputs": [],
   "source": [
    "# Using pipeline, we will \n",
    "# instantiate a pipeline class with the following 2 as its list items:\n",
    "# 1. TfidfVectorizer (transformer)\n",
    "# 2. Multinomial Naive Bayes (estimator)\n",
    "\n",
    "pipe_tvec_nb = Pipeline([\n",
    "    ('tvec', TfidfVectorizer()), # tuple for transformer object, class\n",
    "    ('nb', MultinomialNB()) # tuple for estimator object, class\n",
    "])"
   ]
  },
  {
   "cell_type": "code",
   "execution_count": 23,
   "id": "1fe02d65-5573-4def-8fe2-52c5e7a1cace",
   "metadata": {
    "id": "1fe02d65-5573-4def-8fe2-52c5e7a1cace"
   },
   "outputs": [],
   "source": [
    "pipe_tvec_nb_params = {\n",
    "    'tvec__max_features': [1000, 2000, 3000], \n",
    "    'tvec__min_df': [1, 2],\n",
    "    'tvec__max_df': [0.95, .9],\n",
    "    'tvec__ngram_range': [(1,1), (1,2), (1,3)] \n",
    "} "
   ]
  },
  {
   "cell_type": "code",
   "execution_count": 24,
   "id": "25f9e8ee-5c1a-4540-a472-079a82367598",
   "metadata": {
    "id": "25f9e8ee-5c1a-4540-a472-079a82367598"
   },
   "outputs": [],
   "source": [
    "# Instantiate GridSearchCV.\n",
    "gs_tvec_nb = GridSearchCV(pipe_tvec_nb, # the object that we are optimizing\n",
    "                  param_grid=pipe_tvec_nb_params, \n",
    "                  cv=5) # 5-fold cross-validation."
   ]
  },
  {
   "cell_type": "code",
   "execution_count": 25,
   "id": "6f86ba64-ef2f-4985-aced-75aaf1d5e357",
   "metadata": {
    "id": "6f86ba64-ef2f-4985-aced-75aaf1d5e357"
   },
   "outputs": [],
   "source": [
    "# Fit GridSearch to training data."
   ]
  },
  {
   "cell_type": "code",
   "execution_count": 26,
   "id": "9ea16738-159c-44c4-a7b0-4fd006ba3a74",
   "metadata": {
    "colab": {
     "base_uri": "https://localhost:8080/"
    },
    "id": "9ea16738-159c-44c4-a7b0-4fd006ba3a74",
    "outputId": "de8e2453-1cdb-4669-93ae-34c12db97979"
   },
   "outputs": [
    {
     "name": "stdout",
     "output_type": "stream",
     "text": [
      "CPU times: total: 1h 13min 39s\n",
      "Wall time: 1h 14min 10s\n"
     ]
    },
    {
     "data": {
      "text/plain": [
       "GridSearchCV(cv=5,\n",
       "             estimator=Pipeline(steps=[('tvec', TfidfVectorizer()),\n",
       "                                       ('nb', MultinomialNB())]),\n",
       "             param_grid={'tvec__max_df': [0.95, 0.9],\n",
       "                         'tvec__max_features': [1000, 2000, 3000],\n",
       "                         'tvec__min_df': [1, 2],\n",
       "                         'tvec__ngram_range': [(1, 1), (1, 2), (1, 3)]})"
      ]
     },
     "execution_count": 26,
     "metadata": {},
     "output_type": "execute_result"
    }
   ],
   "source": [
    "%%time\n",
    "gs_tvec_nb.fit(X_train, y_train)"
   ]
  },
  {
   "cell_type": "code",
   "execution_count": 27,
   "id": "56be98e1-7cb7-4f9e-91c6-4cc1672965ce",
   "metadata": {
    "colab": {
     "base_uri": "https://localhost:8080/"
    },
    "id": "56be98e1-7cb7-4f9e-91c6-4cc1672965ce",
    "outputId": "8bab44e5-29d6-43bc-becd-46276184721d"
   },
   "outputs": [
    {
     "name": "stdout",
     "output_type": "stream",
     "text": [
      "0.9314831393613847\n"
     ]
    }
   ],
   "source": [
    "print(gs_tvec_nb.best_score_) # best score"
   ]
  },
  {
   "cell_type": "code",
   "execution_count": 28,
   "id": "85652d4b-7ec7-428c-b6b6-a004c6d95bce",
   "metadata": {
    "colab": {
     "base_uri": "https://localhost:8080/"
    },
    "id": "85652d4b-7ec7-428c-b6b6-a004c6d95bce",
    "outputId": "3f8d16d2-bfd0-41f7-c2bf-e1b8e4e295dc"
   },
   "outputs": [
    {
     "data": {
      "text/plain": [
       "0.9328857057594748"
      ]
     },
     "execution_count": 28,
     "metadata": {},
     "output_type": "execute_result"
    }
   ],
   "source": [
    "# Score model on training set.\n",
    "gs_tvec_nb.score(X_train, y_train)"
   ]
  },
  {
   "cell_type": "code",
   "execution_count": 29,
   "id": "2cc181d2-ce5d-4d4e-bd40-fb914451b2f5",
   "metadata": {
    "colab": {
     "base_uri": "https://localhost:8080/"
    },
    "id": "2cc181d2-ce5d-4d4e-bd40-fb914451b2f5",
    "outputId": "3f63ac3d-db6e-43d8-b69b-67ecb6d06a30"
   },
   "outputs": [
    {
     "data": {
      "text/plain": [
       "0.9331244404655327"
      ]
     },
     "execution_count": 29,
     "metadata": {},
     "output_type": "execute_result"
    }
   ],
   "source": [
    "# Score model on testing set.\n",
    "gs_tvec_nb.score(X_test, y_test)"
   ]
  },
  {
   "cell_type": "code",
   "execution_count": 30,
   "id": "ea092a32-22fe-4c3d-b4f5-a6de25fda0f8",
   "metadata": {
    "colab": {
     "base_uri": "https://localhost:8080/"
    },
    "id": "ea092a32-22fe-4c3d-b4f5-a6de25fda0f8",
    "outputId": "e9aa58b2-0d5e-409e-9917-de2cb6dfdd44"
   },
   "outputs": [
    {
     "data": {
      "text/plain": [
       "{'tvec__max_df': 0.95,\n",
       " 'tvec__max_features': 3000,\n",
       " 'tvec__min_df': 2,\n",
       " 'tvec__ngram_range': (1, 3)}"
      ]
     },
     "execution_count": 30,
     "metadata": {},
     "output_type": "execute_result"
    }
   ],
   "source": [
    "gs_tvec_nb.best_params_"
   ]
  },
  {
   "cell_type": "code",
   "execution_count": 31,
   "id": "0647fcf3-b58b-4457-b9f1-bbbd2e687daf",
   "metadata": {
    "colab": {
     "base_uri": "https://localhost:8080/"
    },
    "id": "0647fcf3-b58b-4457-b9f1-bbbd2e687daf",
    "outputId": "9327a3db-9214-462b-b1bf-2846d11e6c9a"
   },
   "outputs": [
    {
     "name": "stdout",
     "output_type": "stream",
     "text": [
      "[0 1 1 ... 1 1 0]\n"
     ]
    }
   ],
   "source": [
    "# Get predictions\n",
    "preds = gs_tvec_nb.predict(X_test)\n",
    "print(preds)"
   ]
  },
  {
   "cell_type": "code",
   "execution_count": 32,
   "id": "5ea4e88f-c257-4b24-9e00-ff53e6c41fb6",
   "metadata": {
    "colab": {
     "base_uri": "https://localhost:8080/"
    },
    "id": "5ea4e88f-c257-4b24-9e00-ff53e6c41fb6",
    "outputId": "93fc2735-2bb3-46a6-e10a-831dc91310f3"
   },
   "outputs": [
    {
     "data": {
      "text/plain": [
       "array([[4882,  421],\n",
       "       [ 326, 5541]], dtype=int64)"
      ]
     },
     "execution_count": 32,
     "metadata": {},
     "output_type": "execute_result"
    }
   ],
   "source": [
    "# confusion matrix yields a 2-D array\n",
    "confusion_matrix(y_test, preds) "
   ]
  },
  {
   "cell_type": "code",
   "execution_count": 33,
   "id": "43f6a078-9013-4e3c-b8bb-3f05e16344b7",
   "metadata": {
    "colab": {
     "base_uri": "https://localhost:8080/"
    },
    "id": "43f6a078-9013-4e3c-b8bb-3f05e16344b7",
    "outputId": "ceb5b8ad-4e4d-45cc-a50b-4003c2ac5f31"
   },
   "outputs": [
    {
     "name": "stdout",
     "output_type": "stream",
     "text": [
      "4882 421 326 5541\n"
     ]
    }
   ],
   "source": [
    "# ravel() to convert to 1-D and Save confusion matrix values\n",
    "tn, fp, fn, tp = confusion_matrix(y_test, preds).ravel()\n",
    "print(tn, fp, fn, tp)"
   ]
  },
  {
   "cell_type": "markdown",
   "id": "KVqy6-d4TbH9",
   "metadata": {
    "id": "KVqy6-d4TbH9"
   },
   "source": [
    "## Model 3 Naive Bayes with TF-IDF Vectorizer (Further Tuning)"
   ]
  },
  {
   "cell_type": "code",
   "execution_count": 34,
   "id": "ntnyt3oe0otJ",
   "metadata": {
    "id": "ntnyt3oe0otJ"
   },
   "outputs": [],
   "source": [
    "# Using pipeline, we will \n",
    "# instantiate a pipeline class with the following 2 as its list items:\n",
    "# 1. TfidfVectorizer (transformer)\n",
    "# 2. Multinomial Naive Bayes (estimator)\n",
    "\n",
    "pipe_tvec_nb = Pipeline([\n",
    "    ('tvec', TfidfVectorizer(max_df = 0.95)), # tuple for transformer object, class\n",
    "    ('nb', MultinomialNB()) # tuple for estimator object, class\n",
    "])"
   ]
  },
  {
   "cell_type": "code",
   "execution_count": 35,
   "id": "vow-FnJa0otJ",
   "metadata": {
    "id": "vow-FnJa0otJ"
   },
   "outputs": [],
   "source": [
    "pipe_tvec_nb_params = {\n",
    "    'tvec__max_features': [2500, 3000, 3500], \n",
    "    'tvec__min_df': [2, 3, 4],\n",
    "    'tvec__ngram_range': [(1,2), (1,3)] \n",
    "} "
   ]
  },
  {
   "cell_type": "code",
   "execution_count": 36,
   "id": "EnJh2Xw10otJ",
   "metadata": {
    "id": "EnJh2Xw10otJ"
   },
   "outputs": [],
   "source": [
    "# Instantiate GridSearchCV.\n",
    "gs_tvec_nb = GridSearchCV(pipe_tvec_nb, # the object that we are optimizing\n",
    "                  param_grid=pipe_tvec_nb_params, \n",
    "                  cv=5) # 5-fold cross-validation."
   ]
  },
  {
   "cell_type": "code",
   "execution_count": 37,
   "id": "VFqzQaFh0otJ",
   "metadata": {
    "id": "VFqzQaFh0otJ"
   },
   "outputs": [],
   "source": [
    "# Fit GridSearch to training data."
   ]
  },
  {
   "cell_type": "code",
   "execution_count": 38,
   "id": "jM-n6qc50otJ",
   "metadata": {
    "colab": {
     "base_uri": "https://localhost:8080/"
    },
    "id": "jM-n6qc50otJ",
    "outputId": "a201a645-b99c-4798-e0be-56d869f84c82"
   },
   "outputs": [
    {
     "name": "stdout",
     "output_type": "stream",
     "text": [
      "CPU times: total: 49min 43s\n",
      "Wall time: 49min 50s\n"
     ]
    },
    {
     "data": {
      "text/plain": [
       "GridSearchCV(cv=5,\n",
       "             estimator=Pipeline(steps=[('tvec', TfidfVectorizer(max_df=0.95)),\n",
       "                                       ('nb', MultinomialNB())]),\n",
       "             param_grid={'tvec__max_features': [2500, 3000, 3500],\n",
       "                         'tvec__min_df': [2, 3, 4],\n",
       "                         'tvec__ngram_range': [(1, 2), (1, 3)]})"
      ]
     },
     "execution_count": 38,
     "metadata": {},
     "output_type": "execute_result"
    }
   ],
   "source": [
    "%%time\n",
    "gs_tvec_nb.fit(X_train, y_train)"
   ]
  },
  {
   "cell_type": "code",
   "execution_count": 39,
   "id": "ORlS2edH0otK",
   "metadata": {
    "colab": {
     "base_uri": "https://localhost:8080/"
    },
    "id": "ORlS2edH0otK",
    "outputId": "eb158e98-9a91-4749-d80d-cc90d04362e2"
   },
   "outputs": [
    {
     "name": "stdout",
     "output_type": "stream",
     "text": [
      "0.932915547597732\n"
     ]
    }
   ],
   "source": [
    "print(gs_tvec_nb.best_score_) # best score"
   ]
  },
  {
   "cell_type": "code",
   "execution_count": 40,
   "id": "2f9CyU730otK",
   "metadata": {
    "colab": {
     "base_uri": "https://localhost:8080/"
    },
    "id": "2f9CyU730otK",
    "outputId": "e9f8500f-ea34-457f-8991-ae922ac5dbc8"
   },
   "outputs": [
    {
     "data": {
      "text/plain": [
       "0.9344971650253656"
      ]
     },
     "execution_count": 40,
     "metadata": {},
     "output_type": "execute_result"
    }
   ],
   "source": [
    "# Score model on training set.\n",
    "gs_tvec_nb.score(X_train, y_train)"
   ]
  },
  {
   "cell_type": "code",
   "execution_count": 41,
   "id": "W8JNktI30otK",
   "metadata": {
    "colab": {
     "base_uri": "https://localhost:8080/"
    },
    "id": "W8JNktI30otK",
    "outputId": "44d2bf65-5395-482b-8cb1-7477d637b7ef"
   },
   "outputs": [
    {
     "data": {
      "text/plain": [
       "0.9358997314234557"
      ]
     },
     "execution_count": 41,
     "metadata": {},
     "output_type": "execute_result"
    }
   ],
   "source": [
    "# Score model on testing set.\n",
    "gs_tvec_nb.score(X_test, y_test)"
   ]
  },
  {
   "cell_type": "code",
   "execution_count": 42,
   "id": "9ks-w7U80otK",
   "metadata": {
    "colab": {
     "base_uri": "https://localhost:8080/"
    },
    "id": "9ks-w7U80otK",
    "outputId": "8f1a05e7-7fb2-4785-a83a-3a825e192551"
   },
   "outputs": [
    {
     "data": {
      "text/plain": [
       "{'tvec__max_features': 3500, 'tvec__min_df': 2, 'tvec__ngram_range': (1, 3)}"
      ]
     },
     "execution_count": 42,
     "metadata": {},
     "output_type": "execute_result"
    }
   ],
   "source": [
    "gs_tvec_nb.best_params_"
   ]
  },
  {
   "cell_type": "code",
   "execution_count": 43,
   "id": "1NXQigCp0otK",
   "metadata": {
    "colab": {
     "base_uri": "https://localhost:8080/"
    },
    "id": "1NXQigCp0otK",
    "outputId": "5d30a5f8-1afd-465f-b242-c8a27a3dd02c"
   },
   "outputs": [
    {
     "name": "stdout",
     "output_type": "stream",
     "text": [
      "[0 1 1 ... 1 1 0]\n"
     ]
    }
   ],
   "source": [
    "# Get predictions\n",
    "preds = gs_tvec_nb.predict(X_test)\n",
    "print(preds)"
   ]
  },
  {
   "cell_type": "code",
   "execution_count": 44,
   "id": "C5jxsgDm0otK",
   "metadata": {
    "colab": {
     "base_uri": "https://localhost:8080/"
    },
    "id": "C5jxsgDm0otK",
    "outputId": "0b15a9eb-08f3-4fba-8514-72d60676a4f7"
   },
   "outputs": [
    {
     "data": {
      "text/plain": [
       "array([[4887,  416],\n",
       "       [ 300, 5567]], dtype=int64)"
      ]
     },
     "execution_count": 44,
     "metadata": {},
     "output_type": "execute_result"
    }
   ],
   "source": [
    "# confusion matrix yields a 2-D array\n",
    "confusion_matrix(y_test, preds) "
   ]
  },
  {
   "cell_type": "code",
   "execution_count": 45,
   "id": "Y2VR97YC0otK",
   "metadata": {
    "colab": {
     "base_uri": "https://localhost:8080/"
    },
    "id": "Y2VR97YC0otK",
    "outputId": "2fa1d42e-89ce-4d40-cd9c-7a0dd6d881e4"
   },
   "outputs": [
    {
     "name": "stdout",
     "output_type": "stream",
     "text": [
      "4887 416 300 5567\n"
     ]
    }
   ],
   "source": [
    "# ravel() to convert to 1-D and Save confusion matrix values\n",
    "tn, fp, fn, tp = confusion_matrix(y_test, preds).ravel()\n",
    "print(tn, fp, fn, tp)"
   ]
  },
  {
   "cell_type": "code",
   "execution_count": 46,
   "id": "BtYUyktO0otK",
   "metadata": {
    "colab": {
     "base_uri": "https://localhost:8080/",
     "height": 295
    },
    "id": "BtYUyktO0otK",
    "outputId": "ab796055-f2a9-4b76-ef40-85cacbe546fa"
   },
   "outputs": [
    {
     "data": {
      "image/png": "[encoded data removed]",
      "text/plain": [
       "<Figure size 640x480 with 2 Axes>"
      ]
     },
     "metadata": {},
     "output_type": "display_data"
    }
   ],
   "source": [
    "# plot confusion matrix\n",
    "cm = confusion_matrix(y_test, preds)\n",
    "disp = ConfusionMatrixDisplay(confusion_matrix=cm, display_labels=['real', 'fake'])\n",
    "disp.plot()\n",
    "plt.title('Confusion Matrix for NB (TVEC)', fontsize =12);"
   ]
  },
  {
   "cell_type": "markdown",
   "id": "12bM2ha-Uo13",
   "metadata": {
    "id": "12bM2ha-Uo13"
   },
   "source": [
    "## Summary of Preliminary Observations from Model\n",
    "\n",
    "* The baseline model using Naive Bayes with Count Vectorizer is able to outperform the TD-IDF vectorizer. Hence, we will optimise the model while using Count vectorizer for vectorization.\n",
    "* max_df of the count vectorizer to be fixed at 0.95 as this gives the optimal performance.\n",
    "* Hyperparameter tuning of the max features have minimal impact on the metric performance but will have significant impact on the computational effort and time. Increasing the max_features to 3500 only showed marginal improvement in the accuracy scores. Hence, the max_feature will be set as 3000. \n",
    "* Model is able to perform best with n_gram range set at (1,3).While the higher value of n (4-grams, 5-grams, etc.) may improve the accuracy of the model, it will  have significant demands on hardware and software, calculation time. Hence, we will only be considering up to trigram."
   ]
  }
 ],
 "metadata": {
  "accelerator": "GPU",
  "colab": {
   "collapsed_sections": [
    "be89ca89-0de1-403a-8804-ce0238f77914",
    "b92529ce-7a8d-4f81-a12e-12f30a419d1d",
    "7effdcf4-b9db-4f99-856f-a86c12f1dfd0",
    "7a6c9622-2316-4692-a11a-c346284bd89c",
    "4043bc5e-07a9-4420-a988-9bde4e169856",
    "a7995a5d-de3d-4ee5-ab39-9c2da1fab3fe",
    "5ea45d6d-56c9-48b2-b3c5-a76631d96da3"
   ],
   "machine_shape": "hm",
   "provenance": []
  },
  "gpuClass": "standard",
  "kernelspec": {
   "display_name": "Python 3 (ipykernel)",
   "language": "python",
   "name": "python3"
  },
  "language_info": {
   "codemirror_mode": {
    "name": "ipython",
    "version": 3
   },
   "file_extension": ".py",
   "mimetype": "text/x-python",
   "name": "python",
   "nbconvert_exporter": "python",
   "pygments_lexer": "ipython3",
   "version": "3.8.13"
  },
  "widgets": {
   "application/vnd.jupyter.widget-state+json": {
    "9714faca41764fa8a23b66b34a6bdb23": {
     "model_module": "@jupyter-widgets/controls",
     "model_module_version": "1.5.0",
     "model_name": "ProgressStyleModel",
     "state": {
      "_model_module": "@jupyter-widgets/controls",
      "_model_module_version": "1.5.0",
      "_model_name": "ProgressStyleModel",
      "_view_count": null,
      "_view_module": "@jupyter-widgets/base",
      "_view_module_version": "1.2.0",
      "_view_name": "StyleView",
      "bar_color": null,
      "description_width": ""
     }
    },
    "a74e380117b142a08f48726e32780651": {
     "model_module": "@jupyter-widgets/controls",
     "model_module_version": "1.5.0",
     "model_name": "IntProgressModel",
     "state": {
      "_dom_classes": [],
      "_model_module": "@jupyter-widgets/controls",
      "_model_module_version": "1.5.0",
      "_model_name": "IntProgressModel",
      "_view_count": null,
      "_view_module": "@jupyter-widgets/controls",
      "_view_module_version": "1.5.0",
      "_view_name": "ProgressView",
      "bar_style": "",
      "description": "Processing: ",
      "description_tooltip": null,
      "layout": "IPY_MODEL_e4b7608609634a748bae83531b707859",
      "max": 3,
      "min": 0,
      "orientation": "horizontal",
      "style": "IPY_MODEL_9714faca41764fa8a23b66b34a6bdb23",
      "value": 2
     }
    },
    "e4b7608609634a748bae83531b707859": {
     "model_module": "@jupyter-widgets/base",
     "model_module_version": "1.2.0",
     "model_name": "LayoutModel",
     "state": {
      "_model_module": "@jupyter-widgets/base",
      "_model_module_version": "1.2.0",
      "_model_name": "LayoutModel",
      "_view_count": null,
      "_view_module": "@jupyter-widgets/base",
      "_view_module_version": "1.2.0",
      "_view_name": "LayoutView",
      "align_content": null,
      "align_items": null,
      "align_self": null,
      "border": null,
      "bottom": null,
      "display": null,
      "flex": null,
      "flex_flow": null,
      "grid_area": null,
      "grid_auto_columns": null,
      "grid_auto_flow": null,
      "grid_auto_rows": null,
      "grid_column": null,
      "grid_gap": null,
      "grid_row": null,
      "grid_template_areas": null,
      "grid_template_columns": null,
      "grid_template_rows": null,
      "height": null,
      "justify_content": null,
      "justify_items": null,
      "left": null,
      "margin": null,
      "max_height": null,
      "max_width": null,
      "min_height": null,
      "min_width": null,
      "object_fit": null,
      "object_position": null,
      "order": null,
      "overflow": null,
      "overflow_x": null,
      "overflow_y": null,
      "padding": null,
      "right": null,
      "top": null,
      "visibility": null,
      "width": null
     }
    }
   }
  }
 },
 "nbformat": 4,
 "nbformat_minor": 5
}
